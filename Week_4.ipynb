{
  "nbformat": 4,
  "nbformat_minor": 0,
  "metadata": {
    "colab": {
      "name": "Week_4.ipynb",
      "provenance": [],
      "authorship_tag": "ABX9TyMF1vsk0eH5GidhQ55fPojt",
      "include_colab_link": true
    },
    "kernelspec": {
      "name": "python3",
      "display_name": "Python 3"
    },
    "language_info": {
      "name": "python"
    }
  },
  "cells": [
    {
      "cell_type": "markdown",
      "metadata": {
        "id": "view-in-github",
        "colab_type": "text"
      },
      "source": [
        "<a href=\"https://colab.research.google.com/github/duong-jason/CPSC-439/blob/main/Week_4.ipynb\" target=\"_parent\"><img src=\"https://colab.research.google.com/assets/colab-badge.svg\" alt=\"Open In Colab\"/></a>"
      ]
    },
    {
      "cell_type": "code",
      "execution_count": null,
      "metadata": {
        "id": "LWrlg3Qtr3N9"
      },
      "outputs": [],
      "source": [
        "!wget https://raw.githubusercontent.com/boazbk/tcscode/master/Utilities.ipynb\n",
        "# get utility code from repository"
      ]
    },
    {
      "cell_type": "code",
      "source": [
        "!pip install schemdraw"
      ],
      "metadata": {
        "id": "FwFNvdARteyM"
      },
      "execution_count": null,
      "outputs": []
    },
    {
      "cell_type": "code",
      "source": [
        "# utility code \n",
        "%run \"Utilities.ipynb\"\n",
        "from IPython.display import clear_output\n",
        "clear_output()"
      ],
      "metadata": {
        "id": "1QXQIT2LtfaO"
      },
      "execution_count": 4,
      "outputs": []
    },
    {
      "cell_type": "code",
      "source": [
        "def AND(a, b): return a * b\n",
        "def OR(a, b): return 1 if a + b else 0\n",
        "def NOT(a): return 1 - a\n",
        "def NAND(a, b): return NOT(AND(a, b))"
      ],
      "metadata": {
        "id": "SCysrlk5tfj8"
      },
      "execution_count": 38,
      "outputs": []
    },
    {
      "cell_type": "code",
      "source": [
        "\"\"\"AON-CIRC Programs\"\"\"\n",
        "def EQ(a, b):  return AND(a, b)\n",
        "def GT(a, b):  return AND(a, NOT(b))\n",
        "def LT(a, b):  return AND(NOT(a), b)\n",
        "def GTE(a, b): return OR(a, NOT(b))\n",
        "def LTE(a, b): return OR(NOT(a), b)"
      ],
      "metadata": {
        "id": "CN8NQw7htfob"
      },
      "execution_count": 30,
      "outputs": []
    },
    {
      "cell_type": "code",
      "source": [
        "\"\"\"OUTPUTS\"\"\"\n",
        "F = [EQ, GT, LT, GTE, LTE]\n",
        "for f in F:\n",
        "  print(\"{}(1, 1) = {}\".format(f, True if f(0, 1) else False))\n"
      ],
      "metadata": {
        "colab": {
          "base_uri": "https://localhost:8080/"
        },
        "id": "zmg9KBUXtfrP",
        "outputId": "bbb90360-6e81-4713-c1a4-7080d04fb279"
      },
      "execution_count": 40,
      "outputs": [
        {
          "output_type": "stream",
          "name": "stdout",
          "text": [
            "<function EQ at 0x7f0806931d40>(1, 1) = False\n",
            "<function GT at 0x7f0806928200>(1, 1) = False\n",
            "<function LT at 0x7f0806928440>(1, 1) = True\n",
            "<function GTE at 0x7f08069287a0>(1, 1) = False\n",
            "<function LTE at 0x7f0806928b00>(1, 1) = True\n"
          ]
        }
      ]
    },
    {
      "cell_type": "code",
      "source": [
        "\"\"\"NAND-CIRC Programs\"\"\"\n",
        "def EQ(a, b):  return NAND(NAND(a, b), NAND(a, b))\n",
        "def GT(a, b):\n",
        "  t1 = NAND(b, b) # NOT(b)\n",
        "  return NAND(NAND(a, t1), NAND(a, t1))\n",
        "def LT(a, b):\n",
        "  t1 = NAND(a, a) # NOT(a)\n",
        "  return NAND(NAND(t1, b), NAND(t1, b))\n",
        "def GTE(a, b):\n",
        "    t1 = NAND(b, b) # NOT(b)\n",
        "    return NAND(NAND(a, a), NAND(t1, t1))\n",
        "def LTE(a, b):\n",
        "    t1 = NAND(a, a) # NOT(a)\n",
        "    return NAND(NAND(t1, t1), NAND(b, b))"
      ],
      "metadata": {
        "id": "SFtTQruK0kCo"
      },
      "execution_count": 36,
      "outputs": []
    },
    {
      "cell_type": "code",
      "source": [
        "\"\"\"OUTPUTS\"\"\"\n",
        "F = [EQ, GT, LT, GTE, LTE]\n",
        "for f in F:\n",
        "  print(\"{}(1, 1) = {}\".format(f, True if f(0, 1) else False))"
      ],
      "metadata": {
        "colab": {
          "base_uri": "https://localhost:8080/"
        },
        "id": "yM9Lxv4-3dow",
        "outputId": "a1162988-9780-4440-f249-fcc4b807be96"
      },
      "execution_count": 39,
      "outputs": [
        {
          "output_type": "stream",
          "name": "stdout",
          "text": [
            "<function EQ at 0x7f0806931d40>(1, 1) = False\n",
            "<function GT at 0x7f0806928200>(1, 1) = False\n",
            "<function LT at 0x7f0806928440>(1, 1) = True\n",
            "<function GTE at 0x7f08069287a0>(1, 1) = False\n",
            "<function LTE at 0x7f0806928b00>(1, 1) = True\n"
          ]
        }
      ]
    }
  ]
}