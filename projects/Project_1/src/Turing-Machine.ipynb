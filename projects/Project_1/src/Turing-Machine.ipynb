{
 "cells": [
  {
   "cell_type": "code",
   "execution_count": 10,
   "id": "702992b7",
   "metadata": {},
   "outputs": [],
   "source": [
    "from collections import namedtuple\n",
    "\n",
    "# Computational Model: DFA\n",
    "DFA = namedtuple('DFA', ['T', 'S'])\n",
    "DELIM, ZERO, ONE = '00 0 1'.split()\n",
    "\n",
    "def encode(M):\n",
    "    '''converts DFA model to binary representation'''\n",
    "    code = ''\n",
    "\n",
    "    for (current, symbol), successor in M.T.items():\n",
    "        code += ''.join(list(map(lambda offset: ONE * (offset + 1) + ZERO,\n",
    "                                [current, symbol, successor])))\n",
    "        \n",
    "    code += DELIM\n",
    "\n",
    "    for final in M.S:\n",
    "        code += ''.join(list(map(lambda offset: ONE * (offset + 1) + ZERO, [final])))\n",
    "\n",
    "    return code\n",
    "\n",
    "# DFA Representation\n",
    "DFA.__repr__ = encode"
   ]
  },
  {
   "cell_type": "code",
   "execution_count": 11,
   "id": "c5df5338",
   "metadata": {},
   "outputs": [
    {
     "name": "stdout",
     "output_type": "stream",
     "text": [
      "XOR-DFA: 10101010110110110101101101101000110\n"
     ]
    }
   ],
   "source": [
    "'''Figure 6.3'''\n",
    "\n",
    "# States\n",
    "qe, qo = 0, 1\n",
    "\n",
    "# Transition Function\n",
    "delta = dict([ \n",
    "    ((qe, 0), qe), ((qe, 1), qo),\n",
    "    ((qo, 0), qo), ((qo, 1), qe),\n",
    "])\n",
    "\n",
    "XOR = DFA(delta, {qo})\n",
    "print('XOR-DFA:', XOR)"
   ]
  },
  {
   "cell_type": "code",
   "execution_count": 3,
   "id": "f8e56b48",
   "metadata": {},
   "outputs": [
    {
     "name": "stdout",
     "output_type": "stream",
     "text": [
      "F-DFA: 1010111011011011110110101011101011110111011011011110101111011110110111100010\n"
     ]
    }
   ],
   "source": [
    "'''Figure 6.4'''\n",
    "\n",
    "# States\n",
    "q0, q1, q2, q3 = 0, 1, 2, 3\n",
    "\n",
    "# Transition Function\n",
    "delta = dict([\n",
    "    ((q0, 0), q2), ((q1, 1), q3),\n",
    "    ((q1, 0), q0), ((q1, 1), q3),\n",
    "    ((q2, 0), q3), ((q2, 1), q1),\n",
    "    ((q3, 0), q3), ((q3, 1), q3),\n",
    "])\n",
    "\n",
    "F = DFA(delta, {q0})\n",
    "print('F-DFA:', F)"
   ]
  },
  {
   "cell_type": "code",
   "execution_count": 16,
   "id": "6fa07240",
   "metadata": {},
   "outputs": [
    {
     "name": "stdout",
     "output_type": "stream",
     "text": [
      "[0, 1]\n",
      "{0, 1}\n",
      "0\n",
      "{1}\n"
     ]
    }
   ],
   "source": [
    "M = XOR\n",
    "\n",
    "alphabet = {0, 1}\n",
    "state = sorted(list(set([(x[0]) for x in M.T.keys()])))\n",
    "current = state[0]\n",
    "final = M.S\n",
    "\n",
    "print(state, alphabet, current, final, sep='\\n')"
   ]
  },
  {
   "cell_type": "code",
   "execution_count": 17,
   "id": "e07b04f5",
   "metadata": {},
   "outputs": [
    {
     "name": "stdout",
     "output_type": "stream",
     "text": [
      "q1 -> q1 -> q1 -> q0 -> q0 -> q1 -> q1 -> q0 -> q1 -> q0 -> REJECT\n"
     ]
    }
   ],
   "source": [
    "input = r'1001010111'\n",
    "\n",
    "def eval(code):\n",
    "    global current\n",
    "    X = [int(c) for c in code]\n",
    "\n",
    "    for symbol in X:\n",
    "        current = XOR.T[(current, symbol)]\n",
    "        print('q' + str(current), '-> ', end='')\n",
    "\n",
    "    return 'ACCEPT' if current in final else 'REJECT'\n",
    "\n",
    "print(eval(input))"
   ]
  }
 ],
 "metadata": {
  "kernelspec": {
   "display_name": "Python 3 (ipykernel)",
   "language": "python",
   "name": "python3"
  },
  "language_info": {
   "codemirror_mode": {
    "name": "ipython",
    "version": 3
   },
   "file_extension": ".py",
   "mimetype": "text/x-python",
   "name": "python",
   "nbconvert_exporter": "python",
   "pygments_lexer": "ipython3",
   "version": "3.8.10"
  }
 },
 "nbformat": 4,
 "nbformat_minor": 5
}
