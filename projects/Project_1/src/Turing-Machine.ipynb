{
 "cells": [
  {
   "cell_type": "code",
   "execution_count": 95,
   "id": "c5df5338",
   "metadata": {},
   "outputs": [
    {
     "name": "stdout",
     "output_type": "stream",
     "text": [
      "DFA: 00000100010001000101010101001101010011001111011111\n"
     ]
    }
   ],
   "source": [
    "from collections import namedtuple\n",
    "\n",
    "# Computational Model -> DFA\n",
    "DFA = namedtuple('DFA', ['T', 'S'])\n",
    "\n",
    "# States\n",
    "q0, q1, q2, q3 = [0, 1, 2, 3]\n",
    "\n",
    "# Transition Function\n",
    "delta = dict([ \n",
    "    ((q0, 0), q1), ((q0, 1), q0),\n",
    "    ((q1, 0), q1), ((q1, 1), q2),\n",
    "    ((q2, 0), q3), ((q2, 1), q0),\n",
    "    ((q3, 0), q3), ((q3, 1), q3),\n",
    "])\n",
    "\n",
    "def binary(*argv):\n",
    "    '''converts natural numbers to binary strings'''   \n",
    "    def convert(n):\n",
    "        result = ''\n",
    "        while n > 0:\n",
    "            result += str(n % 2)\n",
    "            n //= 2\n",
    "        return result.zfill(2)\n",
    "\n",
    "    return ''.join([convert(_) for _ in argv])\n",
    "\n",
    "def encode(M):\n",
    "    '''converts DFA model to binary representation'''\n",
    "    code = ''\n",
    "    for (current, alphabet), successor in M.T.items():\n",
    "        code += binary(current, alphabet, successor)\n",
    "        \n",
    "    for final in M.S: code += binary(final)\n",
    "    return code\n",
    "\n",
    "# Representation\n",
    "DFA.__repr__ = encode\n",
    "\n",
    "# Instance\n",
    "M = DFA(delta, {q3})\n",
    "\n",
    "# Outputs the Binary Representation\n",
    "print('DFA:', M)"
   ]
  },
  {
   "cell_type": "code",
   "execution_count": 96,
   "id": "b4888636",
   "metadata": {},
   "outputs": [
    {
     "name": "stdout",
     "output_type": "stream",
     "text": [
      "Current:  0\n",
      "State:    [0, 1, 2, 3]\n",
      "Alphabet: {0, 1}\n",
      "Final:    {3}\n"
     ]
    }
   ],
   "source": [
    "state = sorted(list(set([x[0] for x in M.T.keys()])))\n",
    "alphabet = {0, 1}\n",
    "current = state[0]\n",
    "final = M.S\n",
    "\n",
    "print(\n",
    "    f'Current:  {current}',\n",
    "    f'State:    {state}',\n",
    "    f'Alphabet: {alphabet}',\n",
    "    f'Final:    {final}',\n",
    "sep='\\n')"
   ]
  },
  {
   "cell_type": "code",
   "execution_count": 98,
   "id": "e07b04f5",
   "metadata": {},
   "outputs": [
    {
     "name": "stdout",
     "output_type": "stream",
     "text": [
      "ACCEPT\n"
     ]
    }
   ],
   "source": [
    "import re\n",
    "\n",
    "REGEX = r'01*0'\n",
    "input = '0110'\n",
    "\n",
    "if re.search(REGEX, input):\n",
    "    print('ACCEPT')\n",
    "else:\n",
    "    print('REJECT')"
   ]
  },
  {
   "cell_type": "code",
   "execution_count": null,
   "id": "25f50492",
   "metadata": {},
   "outputs": [],
   "source": []
  }
 ],
 "metadata": {
  "kernelspec": {
   "display_name": "Python 3 (ipykernel)",
   "language": "python",
   "name": "python3"
  },
  "language_info": {
   "codemirror_mode": {
    "name": "ipython",
    "version": 3
   },
   "file_extension": ".py",
   "mimetype": "text/x-python",
   "name": "python",
   "nbconvert_exporter": "python",
   "pygments_lexer": "ipython3",
   "version": "3.8.10"
  }
 },
 "nbformat": 4,
 "nbformat_minor": 5
}
