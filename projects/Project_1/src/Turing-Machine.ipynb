{
 "cells": [
  {
   "cell_type": "code",
   "execution_count": 31,
   "id": "c5df5338",
   "metadata": {},
   "outputs": [
    {
     "name": "stdout",
     "output_type": "stream",
     "text": [
      "DFA: 00000100010001000101010101001101010011001111011111\n"
     ]
    }
   ],
   "source": [
    "from collections import namedtuple\n",
    "\n",
    "# Computational Model -> DFA\n",
    "DFA = namedtuple('DFA', ['T', 'S'])\n",
    "\n",
    "# States\n",
    "q0, q1, q2, q3 = [0, 1, 2, 3]\n",
    "\n",
    "# Transition Function\n",
    "delta = dict([ \n",
    "    ((q0, 0), q1), ((q0, 1), q0),\n",
    "    ((q1, 0), q1), ((q1, 1), q2),\n",
    "    ((q2, 0), q3), ((q2, 1), q0),\n",
    "    ((q3, 0), q3), ((q3, 1), q3),\n",
    "])\n",
    "\n",
    "def binary(*argv):\n",
    "    '''converts natural numbers to binary strings'''   \n",
    "    def convert(n):\n",
    "        result = ''\n",
    "        while n > 0:\n",
    "            result += str(n % 2)\n",
    "            n //= 2\n",
    "        return result.zfill(2)\n",
    "\n",
    "    return ''.join([convert(_) for _ in argv])\n",
    "\n",
    "def encode(M):\n",
    "    '''converts DFA model to binary representation'''\n",
    "    code = ''\n",
    "    for (current, alphabet), successor in M.T.items():\n",
    "        code += binary(current, alphabet, successor)\n",
    "        \n",
    "    for final in M.S: code += binary(final)\n",
    "    return code\n",
    "\n",
    "# Representation\n",
    "DFA.__repr__ = encode\n",
    "\n",
    "# Instance\n",
    "M = DFA(delta, {q3})\n",
    "\n",
    "# Outputs the Binary Representation\n",
    "print('DFA:', M)"
   ]
  },
  {
   "cell_type": "code",
   "execution_count": 27,
   "id": "a4aeea52",
   "metadata": {},
   "outputs": [
    {
     "name": "stdout",
     "output_type": "stream",
     "text": [
      "[00_00_01_00_01_00_01_00_01_01_01_01_01_00_11_01_01_00_11_00_11_11_01_11]_11"
     ]
    }
   ],
   "source": [
    "# Test\n",
    "C = 4\n",
    "print('[', end='')\n",
    "for d, b in enumerate(M.__repr__()):\n",
    "    if d == 2*2*3*C:\n",
    "        print(']', end='')\n",
    "    if d % 2 == 0 and d != 0:\n",
    "        print('_', end='')\n",
    "    print(b, end='')"
   ]
  },
  {
   "cell_type": "code",
   "execution_count": 30,
   "id": "e07b04f5",
   "metadata": {},
   "outputs": [
    {
     "name": "stdout",
     "output_type": "stream",
     "text": [
      "0100101101: q0 -> q1 -> q2 -> q3 -> q3 -> q3 -> q3 -> q3 -> q3 -> q3 -> ACCEPT\n",
      "0011010011: q0 -> q1 -> q1 -> q2 -> q0 -> q1 -> q2 -> q3 -> q3 -> q3 -> ACCEPT\n",
      "1111111111: q0 -> q0 -> q0 -> q0 -> q0 -> q0 -> q0 -> q0 -> q0 -> q0 -> REJECT\n",
      "0000001101: q0 -> q1 -> q1 -> q1 -> q1 -> q1 -> q1 -> q2 -> q0 -> q1 -> REJECT\n"
     ]
    }
   ],
   "source": [
    "current = q0\n",
    "input = ['0100101101', '0011010011', '1111111111', '0000001101']\n",
    "\n",
    "def compute(code):\n",
    "    global current\n",
    "    '''returns true if 010 is a substring of the input'''\n",
    "    X = [int(c) for c in code]\n",
    "\n",
    "    for symbol in X:\n",
    "        print('q'+str(current), '-> ', end='')\n",
    "        current = delta[(current, symbol)]\n",
    "\n",
    "    return 'ACCEPT' if current in M.S else 'REJECT'\n",
    "\n",
    "for word in input:\n",
    "    global current\n",
    "    current = q0\n",
    "    print(word+': ', end='')\n",
    "    print(compute(word))"
   ]
  }
 ],
 "metadata": {
  "kernelspec": {
   "display_name": "Python 3 (ipykernel)",
   "language": "python",
   "name": "python3"
  },
  "language_info": {
   "codemirror_mode": {
    "name": "ipython",
    "version": 3
   },
   "file_extension": ".py",
   "mimetype": "text/x-python",
   "name": "python",
   "nbconvert_exporter": "python",
   "pygments_lexer": "ipython3",
   "version": "3.8.10"
  }
 },
 "nbformat": 4,
 "nbformat_minor": 5
}
