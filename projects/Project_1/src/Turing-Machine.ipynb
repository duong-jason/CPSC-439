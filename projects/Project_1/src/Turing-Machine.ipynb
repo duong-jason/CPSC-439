{
 "cells": [
  {
   "cell_type": "code",
   "execution_count": 153,
   "id": "c5df5338",
   "metadata": {},
   "outputs": [
    {
     "name": "stdout",
     "output_type": "stream",
     "text": [
      "DFA: 00000100010001000101011010001110010011001111011111\n"
     ]
    }
   ],
   "source": [
    "from collections import namedtuple\n",
    "\n",
    "# Computational Model -> DFA\n",
    "DFA = namedtuple('DFA', ['T', 'S'])\n",
    "\n",
    "# States\n",
    "q0, q1, q2, q3 = {0, 1, 2, 3}\n",
    "\n",
    "# Transition Function\n",
    "delta = dict([ \n",
    "    ((q0, 0), q1), ((q0, 1), q0),\n",
    "    ((q1, 0), q1), ((q1, 1), q2),\n",
    "    ((q2, 0), q3), ((q2, 1), q0),\n",
    "    ((q3, 0), q3), ((q3, 1), q3),\n",
    "])\n",
    "\n",
    "def encode(M):\n",
    "    '''converts DFA model to binary representation'''\n",
    "    code = ''\n",
    "\n",
    "    for (current, symbol), successor in M.T.items():\n",
    "        code += ''.join(list(map(lambda b: format(b,'02b'),\n",
    "                            [current, symbol, successor])))\n",
    "        \n",
    "    for final in M.S:\n",
    "        code += ''.join(list(map(lambda b: format(b,'02b'), [final])))\n",
    "\n",
    "    return code\n",
    "\n",
    "# Representation\n",
    "DFA.__repr__ = encode\n",
    "\n",
    "# Instance\n",
    "M = DFA(delta, {q3})\n",
    "\n",
    "# Outputs the Binary Representation\n",
    "print('DFA:', M)"
   ]
  },
  {
   "cell_type": "code",
   "execution_count": 156,
   "id": "b4888636",
   "metadata": {},
   "outputs": [
    {
     "name": "stdout",
     "output_type": "stream",
     "text": [
      "[0, 1, 2, 3]\n",
      "{0, 1}\n",
      "0\n",
      "{3}\n"
     ]
    }
   ],
   "source": [
    "state = sorted(list(set([x[0] for x in M.T.keys()])))\n",
    "alphabet = {0, 1}\n",
    "current = state[0]\n",
    "final = M.S\n",
    "\n",
    "print(state, alphabet, current, final, sep='\\n')"
   ]
  },
  {
   "cell_type": "code",
   "execution_count": 157,
   "id": "e07b04f5",
   "metadata": {},
   "outputs": [
    {
     "name": "stdout",
     "output_type": "stream",
     "text": [
      "q0 -> q1 -> q2 -> q3 -> q3 -> q3 -> q3 -> q3 -> q3 -> q3 -> ACCEPT\n"
     ]
    }
   ],
   "source": [
    "input = '0100101101'\n",
    "\n",
    "def compute(code):\n",
    "    global current\n",
    "    '''returns true if 010 is a substring of the input'''\n",
    "    X = [int(c) for c in code]\n",
    "\n",
    "    for symbol in X:\n",
    "        print('q' + str(current), '-> ', end='')\n",
    "        current = M.T[(current, symbol)]\n",
    "\n",
    "    return 'ACCEPT' if current in final else 'REJECT'\n",
    "\n",
    "print(compute(input))"
   ]
  }
 ],
 "metadata": {
  "kernelspec": {
   "display_name": "Python 3 (ipykernel)",
   "language": "python",
   "name": "python3"
  },
  "language_info": {
   "codemirror_mode": {
    "name": "ipython",
    "version": 3
   },
   "file_extension": ".py",
   "mimetype": "text/x-python",
   "name": "python",
   "nbconvert_exporter": "python",
   "pygments_lexer": "ipython3",
   "version": "3.8.10"
  }
 },
 "nbformat": 4,
 "nbformat_minor": 5
}
