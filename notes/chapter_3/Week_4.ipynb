{
  "nbformat": 4,
  "nbformat_minor": 0,
  "metadata": {
    "colab": {
      "name": "Week_4.ipynb",
      "provenance": [],
      "authorship_tag": "ABX9TyPQ1+2hxphQikImssdL/+Lb"
    },
    "kernelspec": {
      "name": "python3",
      "display_name": "Python 3"
    },
    "language_info": {
      "name": "python"
    }
  },
  "cells": [
    {
      "cell_type": "code",
      "execution_count": null,
      "metadata": {
        "id": "LWrlg3Qtr3N9"
      },
      "outputs": [],
      "source": [
        "!wget https://raw.githubusercontent.com/boazbk/tcscode/master/Utilities.ipynb\n",
        "# get utility code from repository"
      ]
    },
    {
      "cell_type": "code",
      "source": [
        "!pip install schemdraw"
      ],
      "metadata": {
        "id": "FwFNvdARteyM"
      },
      "execution_count": null,
      "outputs": []
    },
    {
      "cell_type": "code",
      "source": [
        "# utility code \n",
        "%run \"Utilities.ipynb\"\n",
        "from IPython.display import clear_output\n",
        "clear_output()"
      ],
      "metadata": {
        "id": "1QXQIT2LtfaO"
      },
      "execution_count": 3,
      "outputs": []
    },
    {
      "cell_type": "code",
      "source": [
        "def AND(a, b):  return a * b\n",
        "def OR(a, b):   return 1 if a + b else 0\n",
        "def NOT(a):     return 1 - a\n",
        "def NAND(a, b): return NOT(AND(a, b))"
      ],
      "metadata": {
        "id": "SCysrlk5tfj8"
      },
      "execution_count": 5,
      "outputs": []
    },
    {
      "cell_type": "code",
      "source": [
        "\"\"\"AON-CIRC Programs\"\"\"\n",
        "def EQ(a, b):  return NOT(AND(OR(a, b), NOT(AND(a, b)))) # NOT(XOR(a, b))\n",
        "def GT(a, b):  return AND(a, NOT(b))\n",
        "def LT(a, b):  return AND(NOT(a), b)\n",
        "def GTE(a, b): return OR(a, NOT(b))\n",
        "def LTE(a, b): return OR(NOT(a), b)"
      ],
      "metadata": {
        "id": "CN8NQw7htfob"
      },
      "execution_count": 17,
      "outputs": []
    },
    {
      "cell_type": "code",
      "source": [
        "\"\"\"OUTPUTS\"\"\"\n",
        "F = [EQ, GT, LT, GTE, LTE]\n",
        "T = [\"EQ\", \"GT\", \"LT\", \"GTE\", \"LTE\"]\n",
        "for i, (f, t) in enumerate(zip(F, T)):\n",
        "  print([t + \"(\" + str(a) + \", \" + str(b) + \") = \" + str(True if f(a, b) else False) for a in [0, 1] for b in [0, 1]])\n"
      ],
      "metadata": {
        "colab": {
          "base_uri": "https://localhost:8080/"
        },
        "id": "zmg9KBUXtfrP",
        "outputId": "c956754a-0ec8-4af5-b972-53f95168290d"
      },
      "execution_count": 20,
      "outputs": [
        {
          "output_type": "stream",
          "name": "stdout",
          "text": [
            "['EQ(0, 0) = True', 'EQ(0, 1) = False', 'EQ(1, 0) = False', 'EQ(1, 1) = True']\n",
            "['GT(0, 0) = False', 'GT(0, 1) = False', 'GT(1, 0) = True', 'GT(1, 1) = False']\n",
            "['LT(0, 0) = False', 'LT(0, 1) = True', 'LT(1, 0) = False', 'LT(1, 1) = False']\n",
            "['GTE(0, 0) = True', 'GTE(0, 1) = False', 'GTE(1, 0) = True', 'GTE(1, 1) = True']\n",
            "['LTE(0, 0) = True', 'LTE(0, 1) = True', 'LTE(1, 0) = False', 'LTE(1, 1) = True']\n"
          ]
        }
      ]
    },
    {
      "cell_type": "code",
      "source": [
        "\"\"\"NAND-CIRC Programs\"\"\"\n",
        "def EQ(a, b):\n",
        "  t1 = NAND(NAND(a, a), NAND(b, b)) # OR(a, b)\n",
        "  t2 = NAND(NAND(t1, NAND(a, b)), NAND(t1, NAND(a, b))) # XOR(a, b)\n",
        "  return NOT(t2) # NOT(XOR(a, b))\n",
        "def GT(a, b):\n",
        "  t1 = NAND(b, b) # NOT(b)\n",
        "  return NAND(NAND(a, t1), NAND(a, t1))\n",
        "def LT(a, b):\n",
        "  t1 = NAND(a, a) # NOT(a)\n",
        "  return NAND(NAND(t1, b), NAND(t1, b))\n",
        "def GTE(a, b):\n",
        "    t1 = NAND(b, b) # NOT(b)\n",
        "    return NAND(NAND(a, a), NAND(t1, t1))\n",
        "def LTE(a, b):\n",
        "    t1 = NAND(a, a) # NOT(a)\n",
        "    return NAND(NAND(t1, t1), NAND(b, b))"
      ],
      "metadata": {
        "id": "SFtTQruK0kCo"
      },
      "execution_count": 27,
      "outputs": []
    },
    {
      "cell_type": "code",
      "source": [
        "\"\"\"OUTPUTS\"\"\"\n",
        "F = [EQ, GT, LT, GTE, LTE]\n",
        "T = [\"EQ\", \"GT\", \"LT\", \"GTE\", \"LTE\"]\n",
        "for i, (f, t) in enumerate(zip(F, T)):\n",
        "  print([t + \"(\" + str(a) + \", \" + str(b) + \") = \" + str(True if f(a, b) else False) for a in [0, 1] for b in [0, 1]])"
      ],
      "metadata": {
        "colab": {
          "base_uri": "https://localhost:8080/"
        },
        "id": "yM9Lxv4-3dow",
        "outputId": "37416eb0-adb6-4cca-f2cc-0a02e05163ad"
      },
      "execution_count": 28,
      "outputs": [
        {
          "output_type": "stream",
          "name": "stdout",
          "text": [
            "['EQ(0, 0) = True', 'EQ(0, 1) = False', 'EQ(1, 0) = False', 'EQ(1, 1) = True']\n",
            "['GT(0, 0) = False', 'GT(0, 1) = False', 'GT(1, 0) = True', 'GT(1, 1) = False']\n",
            "['LT(0, 0) = False', 'LT(0, 1) = True', 'LT(1, 0) = False', 'LT(1, 1) = False']\n",
            "['GTE(0, 0) = True', 'GTE(0, 1) = False', 'GTE(1, 0) = True', 'GTE(1, 1) = True']\n",
            "['LTE(0, 0) = True', 'LTE(0, 1) = True', 'LTE(1, 0) = False', 'LTE(1, 1) = True']\n"
          ]
        }
      ]
    }
  ]
}