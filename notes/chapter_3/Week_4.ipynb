{
  "nbformat": 4,
  "nbformat_minor": 0,
  "metadata": {
    "colab": {
      "name": "Week_4.ipynb",
      "provenance": [],
      "authorship_tag": "ABX9TyNucpYPv/MBP569HqZkimFE"
    },
    "kernelspec": {
      "name": "python3",
      "display_name": "Python 3"
    },
    "language_info": {
      "name": "python"
    }
  },
  "cells": [
    {
      "cell_type": "code",
      "execution_count": null,
      "metadata": {
        "id": "LWrlg3Qtr3N9"
      },
      "outputs": [],
      "source": [
        "!wget https://raw.githubusercontent.com/boazbk/tcscode/master/Utilities.ipynb\n",
        "# get utility code from repository"
      ]
    },
    {
      "cell_type": "code",
      "source": [
        "!pip install schemdraw"
      ],
      "metadata": {
        "id": "FwFNvdARteyM"
      },
      "execution_count": null,
      "outputs": []
    },
    {
      "cell_type": "code",
      "source": [
        "# utility code \n",
        "%run \"Utilities.ipynb\"\n",
        "from IPython.display import clear_output\n",
        "clear_output()"
      ],
      "metadata": {
        "id": "1QXQIT2LtfaO"
      },
      "execution_count": 7,
      "outputs": []
    },
    {
      "cell_type": "code",
      "source": [
        "def AND(a, b): return a * b\n",
        "def OR(a, b): return 1 if a + b else 0\n",
        "def NOT(a): return 1 - a\n",
        "def NAND(a, b): return NOT(AND(a, b))"
      ],
      "metadata": {
        "id": "SCysrlk5tfj8"
      },
      "execution_count": 8,
      "outputs": []
    },
    {
      "cell_type": "code",
      "source": [
        "\"\"\"AON-CIRC Programs\"\"\"\n",
        "def EQ(a, b):  return AND(a, b)\n",
        "def GT(a, b):  return AND(a, NOT(b))\n",
        "def LT(a, b):  return AND(NOT(a), b)\n",
        "def GTE(a, b): return OR(a, NOT(b))\n",
        "def LTE(a, b): return OR(NOT(a), b)"
      ],
      "metadata": {
        "id": "CN8NQw7htfob"
      },
      "execution_count": 9,
      "outputs": []
    },
    {
      "cell_type": "code",
      "source": [
        "\"\"\"OUTPUTS\"\"\"\n",
        "F = [EQ, GT, LT, GTE, LTE]\n",
        "for f in F:\n",
        "  print(\"{}(0, 1) = {}\".format(f, True if f(0, 1) else False))\n"
      ],
      "metadata": {
        "colab": {
          "base_uri": "https://localhost:8080/"
        },
        "id": "zmg9KBUXtfrP",
        "outputId": "2c5bd038-bb06-4a45-83e0-d6ad5a8448f5"
      },
      "execution_count": 10,
      "outputs": [
        {
          "output_type": "stream",
          "name": "stdout",
          "text": [
            "<function EQ at 0x7faad69df8c0>(0, 1) = False\n",
            "<function GT at 0x7faad69dfb90>(0, 1) = False\n",
            "<function LT at 0x7faad69df830>(0, 1) = True\n",
            "<function GTE at 0x7faad69dfd40>(0, 1) = False\n",
            "<function LTE at 0x7faad69dfa70>(0, 1) = True\n"
          ]
        }
      ]
    },
    {
      "cell_type": "code",
      "source": [
        "\"\"\"NAND-CIRC Programs\"\"\"\n",
        "def EQ(a, b):  return NAND(NAND(a, b), NAND(a, b))\n",
        "def GT(a, b):\n",
        "  t1 = NAND(b, b) # NOT(b)\n",
        "  return NAND(NAND(a, t1), NAND(a, t1))\n",
        "def LT(a, b):\n",
        "  t1 = NAND(a, a) # NOT(a)\n",
        "  return NAND(NAND(t1, b), NAND(t1, b))\n",
        "def GTE(a, b):\n",
        "    t1 = NAND(b, b) # NOT(b)\n",
        "    return NAND(NAND(a, a), NAND(t1, t1))\n",
        "def LTE(a, b):\n",
        "    t1 = NAND(a, a) # NOT(a)\n",
        "    return NAND(NAND(t1, t1), NAND(b, b))"
      ],
      "metadata": {
        "id": "SFtTQruK0kCo"
      },
      "execution_count": 11,
      "outputs": []
    },
    {
      "cell_type": "code",
      "source": [
        "\"\"\"OUTPUTS\"\"\"\n",
        "F = [EQ, GT, LT, GTE, LTE]\n",
        "for f in F:\n",
        "  print(\"{}(0, 1) = {}\".format(f, True if f(0, 1) else False))"
      ],
      "metadata": {
        "colab": {
          "base_uri": "https://localhost:8080/"
        },
        "id": "yM9Lxv4-3dow",
        "outputId": "062036bb-f4d5-49a8-ff4f-ab4b3109599c"
      },
      "execution_count": 12,
      "outputs": [
        {
          "output_type": "stream",
          "name": "stdout",
          "text": [
            "<function EQ at 0x7faad7434290>(0, 1) = False\n",
            "<function GT at 0x7faad7434440>(0, 1) = False\n",
            "<function LT at 0x7faad6a52050>(0, 1) = True\n",
            "<function GTE at 0x7faad6a523b0>(0, 1) = False\n",
            "<function LTE at 0x7faad6a52710>(0, 1) = True\n"
          ]
        }
      ]
    }
  ]
}