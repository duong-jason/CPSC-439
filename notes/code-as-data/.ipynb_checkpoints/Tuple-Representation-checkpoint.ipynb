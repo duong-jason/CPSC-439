{
 "cells": [
  {
   "cell_type": "code",
   "execution_count": 5,
   "id": "ff024f93",
   "metadata": {},
   "outputs": [
    {
     "name": "stdout",
     "output_type": "stream",
     "text": [
      "3.8.10 (default, Nov 26 2021, 20:14:08) \n",
      "[GCC 9.3.0]\n"
     ]
    }
   ],
   "source": [
    "# The Setup\n",
    "# Reference: Book's Code - https://github.com/boazbk/tcscode\n",
    "\n",
    "import sys\n",
    "print(sys.version)\n",
    "\n",
    "counter = 0\n",
    "statement = None\n",
    "\n",
    "def NAND(a, b):\n",
    "    global counter\n",
    "    global statement\n",
    "    \n",
    "    counter += 1\n",
    "    v = f't{counter}'\n",
    "    \"\"\"\n",
    "    match statement:\n",
    "        case 'NAND':\n",
    "            print(f'{v} = NAND({a}, {b})')\n",
    "        case 'TUPLE':\n",
    "            print(f'{v}')\n",
    "        case _:\n",
    "            print('<error>')\n",
    "    \"\"\"\n",
    "    return v\n",
    "\n",
    "def NOT(a):\n",
    "    return NAND(a, a)\n",
    "\n",
    "def AND(a, b):\n",
    "    t1 = NAND(a, b)\n",
    "    return NOT(t1)\n",
    "\n",
    "def OR(a, b):\n",
    "    t1 = NOT(a)\n",
    "    t2 = NOT(b)\n",
    "    return NAND(t1, t2)"
   ]
  },
  {
   "cell_type": "code",
   "execution_count": 1,
   "id": "a1cdaa69",
   "metadata": {},
   "outputs": [],
   "source": [
    "# Question 1 - Implement LOOKUP3 in NAND-CIRC-IF\n",
    "\n",
    "def LOOKUP3():\n",
    "    pass\n"
   ]
  },
  {
   "cell_type": "code",
   "execution_count": null,
   "id": "105161c2",
   "metadata": {},
   "outputs": [],
   "source": [
    "# Question 2 - LOOKUP3 in NAND-CIRC\n",
    "\n",
    "def LOOKUP3():\n",
    "    pass"
   ]
  },
  {
   "cell_type": "code",
   "execution_count": null,
   "id": "2420a860",
   "metadata": {},
   "outputs": [],
   "source": [
    "# Question 3 - NAND-CIRC in List-of-Tuples\n",
    "\n",
    "def Tuple():\n",
    "    "
   ]
  }
 ],
 "metadata": {
  "kernelspec": {
   "display_name": "Python 3 (ipykernel)",
   "language": "python",
   "name": "python3"
  },
  "language_info": {
   "codemirror_mode": {
    "name": "ipython",
    "version": 3
   },
   "file_extension": ".py",
   "mimetype": "text/x-python",
   "name": "python",
   "nbconvert_exporter": "python",
   "pygments_lexer": "ipython3",
   "version": "3.8.10"
  }
 },
 "nbformat": 4,
 "nbformat_minor": 5
}
