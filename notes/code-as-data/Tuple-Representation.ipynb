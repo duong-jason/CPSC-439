{
 "cells": [
  {
   "cell_type": "code",
   "execution_count": 3,
   "id": "42134546",
   "metadata": {},
   "outputs": [],
   "source": [
    "counter, size = 0, 0\n",
    "program = None\n",
    "P = [None, 1, []]\n",
    "\n",
    "def reset(language, space):\n",
    "    global counter, program, size\n",
    "    counter = 0\n",
    "    size = space\n",
    "    program = language"
   ]
  },
  {
   "cell_type": "code",
   "execution_count": 4,
   "id": "ff024f93",
   "metadata": {},
   "outputs": [],
   "source": [
    "# The Setup: Reference: Book's Code - https://github.com/boazbk/tcscode\n",
    "\n",
    "def NAND(a, b):\n",
    "    global counter, program, P\n",
    "    counter += 1\n",
    "    v = f't{counter}'\n",
    "    \n",
    "    if program == 'NAND-CIRC':\n",
    "        print(f'{v} = NAND({a}, {b})')\n",
    "    if program == 'LIST-TUPLE':\n",
    "        P[2] += [[counter + 1, int(a[1::]), int(b[1::])]]\n",
    "    \n",
    "    return v"
   ]
  },
  {
   "cell_type": "code",
   "execution_count": 5,
   "id": "dc4fe9aa",
   "metadata": {},
   "outputs": [],
   "source": [
    "# NAND-CIRC-IF Program\n",
    "\n",
    "def COND(cond, b, c):\n",
    "    \"\"\"return cond ? b : c\"\"\"\n",
    "    notcond = NAND(cond, cond)\n",
    "    t1 = NAND(c, notcond)      # check if condition = False\n",
    "    t2 = NAND(b, cond)         # check if condition = True\n",
    "    return NAND(t1, t2)\n",
    "\n",
    "\n",
    "def LOOKUP1(a, b, c):\n",
    "    \"\"\"c ? b : a\"\"\"  \n",
    "    return COND(c, b, a)\n",
    "\n",
    "\n",
    "def LOOKUP2(a, b, c, d, e, f):\n",
    "    \"\"\"a ? (e, f) == (0, 0) :\n",
    "       b ? (e, f) == (0, 1) :\n",
    "       c ? (e, f) == (1, 0) : d\n",
    "    \"\"\"\n",
    "    t1 = LOOKUP1(c, d, f)\n",
    "    t2 = LOOKUP1(a, b, f)\n",
    "    return COND(e, t1, t2)"
   ]
  },
  {
   "cell_type": "code",
   "execution_count": 6,
   "id": "f5b55739",
   "metadata": {},
   "outputs": [
    {
     "name": "stdout",
     "output_type": "stream",
     "text": [
      "t1 = NAND(X10, X10)\n",
      "t2 = NAND(X6, t1)\n",
      "t3 = NAND(X7, X10)\n",
      "t4 = NAND(t2, t3)\n",
      "t5 = NAND(X10, X10)\n",
      "t6 = NAND(X4, t5)\n",
      "t7 = NAND(X5, X10)\n",
      "t8 = NAND(t6, t7)\n",
      "t9 = NAND(X9, X9)\n",
      "t10 = NAND(t8, t9)\n",
      "t11 = NAND(t4, X9)\n",
      "t12 = NAND(t10, t11)\n",
      "t13 = NAND(X10, X10)\n",
      "t14 = NAND(X2, t13)\n",
      "t15 = NAND(X3, X10)\n",
      "t16 = NAND(t14, t15)\n",
      "t17 = NAND(X10, X10)\n",
      "t18 = NAND(X0, t17)\n",
      "t19 = NAND(X1, X10)\n",
      "t20 = NAND(t18, t19)\n",
      "t21 = NAND(X9, X9)\n",
      "t22 = NAND(t20, t21)\n",
      "t23 = NAND(t16, X9)\n",
      "t24 = NAND(t22, t23)\n",
      "t25 = NAND(X8, X8)\n",
      "t26 = NAND(t24, t25)\n",
      "t27 = NAND(t12, X8)\n",
      "t28 = NAND(t26, t27)\n"
     ]
    },
    {
     "data": {
      "text/plain": [
       "'t28'"
      ]
     },
     "execution_count": 6,
     "metadata": {},
     "output_type": "execute_result"
    }
   ],
   "source": [
    "# Question 1 - Implement LOOKUP3 in NAND-CIRC-IF\n",
    "\n",
    "reset('NAND-CIRC', 3)\n",
    "\n",
    "def LOOKUP3(a, b, c, d, e, f, g, h, i, j, k):\n",
    "    \"\"\"a ? (i, j, k) == (0, 0, 0) :\n",
    "       b ? (i, j, k) == (0, 0, 1) :\n",
    "       c ? (i, j, k) == (0, 1, 0) :\n",
    "       d ? (i, j, k) == (0, 1, 1) :\n",
    "       e ? (i, j, k) == (1, 0, 0) :\n",
    "       f ? (i, j, k) == (1, 0, 1) :\n",
    "       g ? (i, j, k) == (1, 1, 0) : h\n",
    "    \"\"\" \n",
    "    t1 = LOOKUP2(e, f, g, h, j, k)\n",
    "    t2 = LOOKUP2(a, b, c, d, j, k)\n",
    "    return COND(i, t1, t2)\n",
    "\n",
    "input = ['X' + str(n) for n in range(2**size+size)]\n",
    "LOOKUP3(*input)"
   ]
  },
  {
   "cell_type": "code",
   "execution_count": 7,
   "id": "105161c2",
   "metadata": {},
   "outputs": [
    {
     "name": "stdout",
     "output_type": "stream",
     "text": [
      "t1 = NAND(X10, X10)\n",
      "t2 = NAND(X6, t1)\n",
      "t3 = NAND(X7, X10)\n",
      "t4 = NAND(t2, t3)\n",
      "t5 = NAND(X10, X10)\n",
      "t6 = NAND(X4, t5)\n",
      "t7 = NAND(X5, X10)\n",
      "t8 = NAND(t6, t7)\n",
      "t9 = NAND(X9, X9)\n",
      "t10 = NAND(t8, t9)\n",
      "t11 = NAND(t4, X9)\n",
      "t12 = NAND(t10, t11)\n",
      "t13 = NAND(X10, X10)\n",
      "t14 = NAND(X2, t13)\n",
      "t15 = NAND(X3, X10)\n",
      "t16 = NAND(t14, t15)\n",
      "t17 = NAND(X10, X10)\n",
      "t18 = NAND(X0, t17)\n",
      "t19 = NAND(X1, X10)\n",
      "t20 = NAND(t18, t19)\n",
      "t21 = NAND(X9, X9)\n",
      "t22 = NAND(t20, t21)\n",
      "t23 = NAND(t16, X9)\n",
      "t24 = NAND(t22, t23)\n",
      "t25 = NAND(X8, X8)\n",
      "t26 = NAND(t24, t25)\n",
      "t27 = NAND(t12, X8)\n",
      "t28 = NAND(t26, t27)\n"
     ]
    },
    {
     "data": {
      "text/plain": [
       "'t28'"
      ]
     },
     "execution_count": 7,
     "metadata": {},
     "output_type": "execute_result"
    }
   ],
   "source": [
    "# Question 2 - LOOKUP3 in NAND-CIRC\n",
    "\n",
    "reset('NAND-CIRC', 3)\n",
    "\n",
    "def LOOKUP3(a, b, c, d, e, f, g, h, i, j, k):\n",
    "    t1 = NAND(k, k)\n",
    "    t2 = NAND(g, t1)\n",
    "    t3 = NAND(h, k)\n",
    "    t4 = NAND(t2, t3)\n",
    "    t5 = NAND(k, k)\n",
    "    t6 = NAND(e, t5)\n",
    "    t7 = NAND(f, k)\n",
    "    t8 = NAND(t6, t7)\n",
    "    t9 = NAND(j, j)\n",
    "    t10 = NAND(t8, t9)\n",
    "    t11 = NAND(t4, j)\n",
    "    t12 = NAND(t10, t11)\n",
    "    t13 = NAND(k, k)\n",
    "    t14 = NAND(c, t13)\n",
    "    t15 = NAND(d, k)\n",
    "    t16 = NAND(t14, t15)\n",
    "    t17 = NAND(k, k)\n",
    "    t18 = NAND(a, t17)\n",
    "    t19 = NAND(b, k)\n",
    "    t20 = NAND(t18, t19)\n",
    "    t21 = NAND(j, j)\n",
    "    t22 = NAND(t20, t21)\n",
    "    t23 = NAND(t16, j)\n",
    "    t24 = NAND(t22, t23)\n",
    "    t25 = NAND(i, i)\n",
    "    t26 = NAND(t24, t25)\n",
    "    t27 = NAND(t12, i)\n",
    "    return NAND(t26, t27)\n",
    "\n",
    "input = ['X' + str(n) for n in range(2**size+size)]\n",
    "LOOKUP3(*input)"
   ]
  },
  {
   "cell_type": "code",
   "execution_count": 8,
   "id": "2420a860",
   "metadata": {},
   "outputs": [
    {
     "name": "stdout",
     "output_type": "stream",
     "text": [
      "28\n",
      "1\n",
      "[2, 0, 0]\n",
      "[3, 6, 1]\n",
      "[4, 7, 0]\n",
      "[5, 2, 3]\n",
      "[6, 0, 0]\n",
      "[7, 4, 5]\n",
      "[8, 5, 0]\n",
      "[9, 6, 7]\n",
      "[10, 9, 9]\n",
      "[11, 8, 9]\n",
      "[12, 4, 9]\n",
      "[13, 0, 1]\n",
      "[14, 0, 0]\n",
      "[15, 2, 3]\n",
      "[16, 3, 0]\n",
      "[17, 4, 5]\n",
      "[18, 0, 0]\n",
      "[19, 0, 7]\n",
      "[20, 1, 0]\n",
      "[21, 8, 9]\n",
      "[22, 9, 9]\n",
      "[23, 0, 1]\n",
      "[24, 6, 9]\n",
      "[25, 2, 3]\n",
      "[26, 8, 8]\n",
      "[27, 4, 5]\n",
      "[28, 2, 8]\n",
      "[29, 6, 7]\n"
     ]
    }
   ],
   "source": [
    "# Question 3 - NAND-CIRC in List-of-Tuples\n",
    "\n",
    "reset('LIST-TUPLE', 3)\n",
    "\n",
    "input = ['X' + str(n) for n in range(2**size+size)]\n",
    "LOOKUP3(*input)\n",
    "\n",
    "P[0] = counter\n",
    "L = '\\n'.join(str(l) for l in P[2])\n",
    "\n",
    "print(P[0], P[1], L, sep='\\n')"
   ]
  },
  {
   "cell_type": "code",
   "execution_count": 9,
   "id": "f7554164",
   "metadata": {},
   "outputs": [
    {
     "name": "stdout",
     "output_type": "stream",
     "text": [
      "['t28']\n"
     ]
    }
   ],
   "source": [
    "reset(\"DEBUG\", 3)\n",
    "\n",
    "def NANDEVAL(n, m, L, X):\n",
    "    s = len(L)\n",
    "    t = max(max(a, b, c) for (a, b, c) in L) + 1\n",
    "    VarTable = [0] * t\n",
    "\n",
    "    def GET(V, i): return V[i]\n",
    "\n",
    "    def UPDATE(V, i, b):\n",
    "        V[i] = b\n",
    "        return V\n",
    "\n",
    "    for i in range(n):\n",
    "        VarTable = UPDATE(VarTable, i, X[i])\n",
    "\n",
    "    for (i, j, k) in L:\n",
    "        a = GET(VarTable, j)\n",
    "        b = GET(VarTable, k)\n",
    "        c = NAND(a, b)\n",
    "        VarTable = UPDATE(VarTable, i, c)\n",
    "\n",
    "    return [GET(VarTable, t-m+j) for j in range(m)]\n",
    "\n",
    "n = P[0]\n",
    "m = P[1]\n",
    "L = P[2]\n",
    "\n",
    "print(NANDEVAL(n, m, L, list(range(0, n))))"
   ]
  }
 ],
 "metadata": {
  "kernelspec": {
   "display_name": "Python 3 (ipykernel)",
   "language": "python",
   "name": "python3"
  },
  "language_info": {
   "codemirror_mode": {
    "name": "ipython",
    "version": 3
   },
   "file_extension": ".py",
   "mimetype": "text/x-python",
   "name": "python",
   "nbconvert_exporter": "python",
   "pygments_lexer": "ipython3",
   "version": "3.8.10"
  }
 },
 "nbformat": 4,
 "nbformat_minor": 5
}
