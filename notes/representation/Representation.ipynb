{
 "cells": [
  {
   "cell_type": "code",
   "execution_count": 3,
   "id": "3f7cda56",
   "metadata": {},
   "outputs": [
    {
     "data": {
      "text/plain": [
       "'101011000'"
      ]
     },
     "execution_count": 3,
     "metadata": {},
     "output_type": "execute_result"
    }
   ],
   "source": [
    "def NtS(n):# natural numbers to strings\n",
    "    if n > 1:\n",
    "        return NtS(n // 2) + str(n % 2)\n",
    "    else:\n",
    "        return str(n % 2)\n",
    "    \n",
    "NtS(344)"
   ]
  },
  {
   "cell_type": "code",
   "execution_count": 4,
   "id": "62dea54b",
   "metadata": {},
   "outputs": [
    {
     "data": {
      "text/plain": [
       "236"
      ]
     },
     "execution_count": 4,
     "metadata": {},
     "output_type": "execute_result"
    }
   ],
   "source": [
    "def StN(x):# String to number\n",
    "    k = len(x)-1\n",
    "    return sum(int(x[i])*(2**(k-i)) for i in range(k+1))\n",
    "\n",
    "StN(NtS(236))"
   ]
  }
 ],
 "metadata": {
  "kernelspec": {
   "display_name": "Python 3 (ipykernel)",
   "language": "python",
   "name": "python3"
  },
  "language_info": {
   "codemirror_mode": {
    "name": "ipython",
    "version": 3
   },
   "file_extension": ".py",
   "mimetype": "text/x-python",
   "name": "python",
   "nbconvert_exporter": "python",
   "pygments_lexer": "ipython3",
   "version": "3.8.10"
  }
 },
 "nbformat": 4,
 "nbformat_minor": 5
}
