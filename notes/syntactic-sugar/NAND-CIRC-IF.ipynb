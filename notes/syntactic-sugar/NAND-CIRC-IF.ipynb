{
 "cells": [
  {
   "cell_type": "markdown",
   "id": "eb593d34",
   "metadata": {},
   "source": [
    "# Exercise - NAND-CIRC-IF\n",
    "---\n",
    "**Name:** Jason Duong"
   ]
  },
  {
   "cell_type": "code",
   "execution_count": 76,
   "id": "04e984d4",
   "metadata": {},
   "outputs": [],
   "source": [
    "# The Setup\n",
    "# Reference: Book's Code - https://github.com/boazbk/tcscode\n",
    "\n",
    "counter = 0\n",
    "\n",
    "def NAND(a, b):\n",
    "    global counter\n",
    "    counter += 1\n",
    "    v = f't{counter}'\n",
    "    print(f'{v} = NAND({a}, {b})')\n",
    "    return v\n",
    "    # return 0 if a == b == 1 else 1\n",
    "\n",
    "def NOT(a):\n",
    "    return NAND(a, a)\n",
    "\n",
    "def AND(a, b):\n",
    "    t1 = NAND(a, b)\n",
    "    return NOT(t1)\n",
    "\n",
    "def OR(a, b):\n",
    "    t1 = NOT(a)\n",
    "    t2 = NOT(b)\n",
    "    return NAND(t1, t2)"
   ]
  },
  {
   "cell_type": "code",
   "execution_count": 77,
   "id": "0d6b265e",
   "metadata": {},
   "outputs": [
    {
     "name": "stdout",
     "output_type": "stream",
     "text": [
      "t1 = NAND(1, 1)\n",
      "t2 = NAND(0, t1)\n",
      "t3 = NAND(1, 1)\n",
      "t4 = NAND(t2, t3)\n"
     ]
    },
    {
     "data": {
      "text/plain": [
       "'t4'"
      ]
     },
     "execution_count": 77,
     "metadata": {},
     "output_type": "execute_result"
    }
   ],
   "source": [
    "# QUESTION #1: EXERCISE 4.4 Part 1 - \"Proof by Code\": de-sugar the conditional statement\n",
    "\n",
    "counter = 0\n",
    "\n",
    "def IF(cond, b, c):\n",
    "    \"\"\"return cond ? b : c\"\"\"\n",
    "    notcond = NAND(cond, cond)\n",
    "    t1 = NAND(c, notcond)      # check if condition = False\n",
    "    t2 = NAND(b, cond)         # check if condition = True\n",
    "    return NAND(t1, t2)\n",
    "\n",
    "def COND(a, b, c):\n",
    "    return IF(a, b, c)\n",
    "\n",
    "COND(1, 1, 0)"
   ]
  },
  {
   "cell_type": "code",
   "execution_count": 78,
   "id": "f9e30298",
   "metadata": {
    "scrolled": true
   },
   "outputs": [
    {
     "name": "stdout",
     "output_type": "stream",
     "text": [
      "t1 = NAND(0, 0)\n",
      "t2 = NAND(0, t1)\n",
      "t3 = NAND(1, 0)\n",
      "t4 = NAND(t2, t3)\n"
     ]
    },
    {
     "data": {
      "text/plain": [
       "'t4'"
      ]
     },
     "execution_count": 78,
     "metadata": {},
     "output_type": "execute_result"
    }
   ],
   "source": [
    "# QUESTION #2 - LOOKUP1 Implementation\n",
    "\n",
    "counter = 0\n",
    "\n",
    "def LOOKUP1(a, b, c):\n",
    "    \"\"\"return c ? b : a\"\"\"  \n",
    "    return COND(c, b, a)\n",
    "\n",
    "LOOKUP1(0, 1, 0)"
   ]
  },
  {
   "cell_type": "code",
   "execution_count": 80,
   "id": "7c22ccb1",
   "metadata": {},
   "outputs": [
    {
     "name": "stdout",
     "output_type": "stream",
     "text": [
      "t1 = NAND(1, 1)\n",
      "t2 = NAND(1, t1)\n",
      "t3 = NAND(0, 1)\n",
      "t4 = NAND(t2, t3)\n",
      "t5 = NAND(1, 1)\n",
      "t6 = NAND(0, t5)\n",
      "t7 = NAND(1, 1)\n",
      "t8 = NAND(t6, t7)\n",
      "t9 = NAND(1, 1)\n",
      "t10 = NAND(t8, t9)\n",
      "t11 = NAND(t4, 1)\n",
      "t12 = NAND(t10, t11)\n"
     ]
    },
    {
     "data": {
      "text/plain": [
       "'t12'"
      ]
     },
     "execution_count": 80,
     "metadata": {},
     "output_type": "execute_result"
    }
   ],
   "source": [
    "# QUESTION #3 - LOOKUP2 Implementation\n",
    "\n",
    "counter = 0\n",
    "\n",
    "def LOOKUP2(a, b, c, d, e, f):\n",
    "    \"\"\" return a ? (e, f) == (0, 0) :\n",
    "               b ? (e, f) == (0, 1) :\n",
    "               c ? (e, f) == (1, 0) : d\n",
    "    \"\"\"\n",
    "    t1 = LOOKUP1(c, d, f)\n",
    "    t2 = LOOKUP1(a, b, f)\n",
    "    return IF(e, t1, t2)\n",
    "\n",
    "LOOKUP2(0, 1, 1, 0, 1, 1)"
   ]
  },
  {
   "cell_type": "code",
   "execution_count": 51,
   "id": "a7971dd8",
   "metadata": {},
   "outputs": [],
   "source": [
    "# QUESTION #4 - Straight-Line Program w/ only NAND-STATEMENTS\n",
    "\n",
    "counter = 0\n",
    "\n",
    "def LOOKUP2(a, b, c, d, e, f):\n",
    "    t1 = NAND(f, f)\n",
    "    t2 = NAND(c, t1)\n",
    "    t3 = NAND(d, f)\n",
    "    t4 = NAND(t2, t3)\n",
    "    t5 = NAND(f, f)\n",
    "    t6 = NAND(a, t5)\n",
    "    t7 = NAND(b, f)\n",
    "    t8 = NAND(t6, t7)\n",
    "    t9 = NAND(e, e)\n",
    "    t10 = NAND(t8, t9)\n",
    "    t11 = NAND(t4, e)\n",
    "    t12 = NAND(t10, t11)"
   ]
  }
 ],
 "metadata": {
  "kernelspec": {
   "display_name": "Python 3 (ipykernel)",
   "language": "python",
   "name": "python3"
  },
  "language_info": {
   "codemirror_mode": {
    "name": "ipython",
    "version": 3
   },
   "file_extension": ".py",
   "mimetype": "text/x-python",
   "name": "python",
   "nbconvert_exporter": "python",
   "pygments_lexer": "ipython3",
   "version": "3.8.10"
  }
 },
 "nbformat": 4,
 "nbformat_minor": 5
}
