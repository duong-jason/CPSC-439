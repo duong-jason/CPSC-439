{
 "cells": [
  {
   "cell_type": "code",
   "execution_count": 6,
   "id": "3e150d10",
   "metadata": {},
   "outputs": [],
   "source": [
    "# The Setup\n",
    "# Reference: Book's Code\n",
    "\n",
    "counter = 0\n",
    "\n",
    "def NAND(a, b):\n",
    "    global counter\n",
    "    counter += 1\n",
    "    v = f't{counter}'\n",
    "    print(f'{v} = NAND({a}, {b})')\n",
    "    return v\n",
    "    # return 0 if a == b == 1 else 1\n",
    "\n",
    "def NOT(a):\n",
    "    return NAND(a, a)\n",
    "\n",
    "def AND(a, b):\n",
    "    t1 = NAND(a, b)\n",
    "    return NOT(t1)\n",
    "\n",
    "def OR(a, b):\n",
    "    t1 = NOT(a)\n",
    "    t2 = NOT(b)\n",
    "    return NAND(t1, t2)\n",
    "\n",
    "def IF(cond, a, b):\n",
    "    notcond = NAND(cond, cond) # False condition\n",
    "    t1 = NAND(b, notcond)      # check if condition = False\n",
    "    t2 = NAND(a, cond)         # check if condition = True\n",
    "    return NAND(t1, t2)"
   ]
  },
  {
   "cell_type": "code",
   "execution_count": 5,
   "id": "083d0562",
   "metadata": {},
   "outputs": [
    {
     "name": "stdout",
     "output_type": "stream",
     "text": [
      "t1 = NAND(1, 1)\n",
      "t2 = NAND(0, t1)\n",
      "t3 = NAND(1, 1)\n",
      "t4 = NAND(t2, t3)\n",
      "t5 = NAND(t4, 1)\n",
      "t6 = NAND(t5, t5)\n",
      "t7 = NAND(t4, 0)\n",
      "t8 = NAND(t7, t7)\n",
      "t9 = NAND(t6, t6)\n",
      "t10 = NAND(t8, t8)\n",
      "t11 = NAND(t9, t10)\n"
     ]
    },
    {
     "data": {
      "text/plain": [
       "'t11'"
      ]
     },
     "execution_count": 5,
     "metadata": {},
     "output_type": "execute_result"
    }
   ],
   "source": [
    "# QUESTION #1 - EXERCISE 4.4 Part 1 - \"Proof by Code\": Desugar the Conditional Statement\n",
    "\n",
    "counter = 0\n",
    "    \n",
    "def COND_STATEMENT(a, b, c):\n",
    "    \"\"\"\n",
    "    returns statement 'b'\n",
    "    if statement 'a' = True\n",
    "    else statement 'c'\n",
    "    \"\"\"\n",
    "    result = IF(a, b, c)\n",
    "    t2 = AND(result, b) # if a is true\n",
    "    t3 = AND(result, c) # if a is false\n",
    "    return OR(t2, t3) # either t2 or t3 will be true, not both\n",
    "\n",
    "COND_STATEMENT(1, 1, 0)"
   ]
  },
  {
   "cell_type": "code",
   "execution_count": 3,
   "id": "e92c80f9",
   "metadata": {
    "scrolled": true
   },
   "outputs": [
    {
     "name": "stdout",
     "output_type": "stream",
     "text": [
      "t1 = NAND(1, 1)\n",
      "t2 = NAND(0, t1)\n",
      "t3 = NAND(1, 1)\n",
      "t4 = NAND(t2, t3)\n",
      "t5 = NAND(t4, 1)\n",
      "t6 = NAND(t5, t5)\n",
      "t7 = NAND(t4, 0)\n",
      "t8 = NAND(t7, t7)\n",
      "t9 = NAND(t6, t6)\n",
      "t10 = NAND(t8, t8)\n",
      "t11 = NAND(t9, t10)\n"
     ]
    },
    {
     "data": {
      "text/plain": [
       "'t11'"
      ]
     },
     "execution_count": 3,
     "metadata": {},
     "output_type": "execute_result"
    }
   ],
   "source": [
    "# QUESTION #2 - LOOKUP1 Implementation\n",
    "\n",
    "counter = 0\n",
    "\n",
    "def LOOKUP1(a, b, c):\n",
    "    \"\"\"\n",
    "    returns 'b' if c is True\n",
    "    returns 'a' if c is False\n",
    "    \"\"\"\n",
    "    return COND_STATEMENT(c, b, a)\n",
    "\n",
    "LOOKUP1(0, 1, 1)"
   ]
  },
  {
   "cell_type": "code",
   "execution_count": 4,
   "id": "29e6d1cb",
   "metadata": {},
   "outputs": [
    {
     "name": "stdout",
     "output_type": "stream",
     "text": [
      "t1 = NAND(1, 1)\n",
      "t2 = NAND(0, t1)\n",
      "t3 = NAND(1, 1)\n",
      "t4 = NAND(t2, t3)\n",
      "t5 = NAND(t4, 1)\n",
      "t6 = NAND(t5, t5)\n",
      "t7 = NAND(t4, 0)\n",
      "t8 = NAND(t7, t7)\n",
      "t9 = NAND(t6, t6)\n",
      "t10 = NAND(t8, t8)\n",
      "t11 = NAND(t9, t10)\n",
      "t12 = NAND(1, 1)\n",
      "t13 = NAND(1, t12)\n",
      "t14 = NAND(0, 1)\n",
      "t15 = NAND(t13, t14)\n",
      "t16 = NAND(t15, 0)\n",
      "t17 = NAND(t16, t16)\n",
      "t18 = NAND(t15, 1)\n",
      "t19 = NAND(t18, t18)\n",
      "t20 = NAND(t17, t17)\n",
      "t21 = NAND(t19, t19)\n",
      "t22 = NAND(t20, t21)\n",
      "t23 = NAND(0, 0)\n",
      "t24 = NAND(t22, t23)\n",
      "t25 = NAND(t11, 0)\n",
      "t26 = NAND(t24, t25)\n"
     ]
    },
    {
     "data": {
      "text/plain": [
       "'t26'"
      ]
     },
     "execution_count": 4,
     "metadata": {},
     "output_type": "execute_result"
    }
   ],
   "source": [
    "# QUESTION #3 - LOOKUP2 Implementation\n",
    "\n",
    "counter = 0\n",
    "\n",
    "def LOOKUP2(a, b, c, d, e, f):\n",
    "    \"\"\"\n",
    "    returns a if e = (0, 0)\n",
    "    returns b if e = (0, 1)\n",
    "    returns c if e = (1, 0)\n",
    "    returns d if e = (1, 1)\n",
    "    \"\"\"\n",
    "    t1 = LOOKUP1(c, d, f)\n",
    "    t2 = LOOKUP1(a, b, f)\n",
    "    return IF(e, t1, t2)\n",
    "\n",
    "LOOKUP2(1, 0, 0, 1, 0, 1)"
   ]
  },
  {
   "cell_type": "code",
   "execution_count": null,
   "id": "cdb83f37",
   "metadata": {},
   "outputs": [],
   "source": [
    "# QUESTION #4 - convert to Straight-Line Program w/ only NAND-STATEMENTS\n",
    "\n",
    "counter = 0\n",
    "\n",
    "def LOOKUP2(a, b, c, d, e, f):\n",
    "    t1 = NAND(f, f)\n",
    "    t2 = NAND(c, t1)\n",
    "    t3 = NAND(d, f)\n",
    "    t4 = NAND(t2, t3)\n",
    "    t5 = NAND(t4, d)\n",
    "    t6 = NAND(t5, t5)\n",
    "    t7 = NAND(t4, c)\n",
    "    t8 = NAND(t7, t7)\n",
    "    t9 = NAND(t6, t6)\n",
    "    t10 = NAND(t8, t8)\n",
    "    t11 = NAND(t9, t10)\n",
    "    t12 = NAND(f, f)\n",
    "    t13 = NAND(a, t12)\n",
    "    t14 = NAND(b, f)\n",
    "    t15 = NAND(t13, t14)\n",
    "    t16 = NAND(t15, b)\n",
    "    t17 = NAND(t16, t16)\n",
    "    t18 = NAND(t15, a)\n",
    "    t19 = NAND(t18, t18)\n",
    "    t20 = NAND(t17, t17)\n",
    "    t21 = NAND(t19, t19)\n",
    "    t22 = NAND(t20, t21)\n",
    "    t23 = NAND(e, e)\n",
    "    t24 = NAND(t22, t23)\n",
    "    t25 = NAND(t11, e)\n",
    "    t26 = NAND(t24, t25)\n",
    "\n",
    "LOOKUP2(1, 0, 0, 1, 0, 1)"
   ]
  }
 ],
 "metadata": {
  "kernelspec": {
   "display_name": "Python 3 (ipykernel)",
   "language": "python",
   "name": "python3"
  },
  "language_info": {
   "codemirror_mode": {
    "name": "ipython",
    "version": 3
   },
   "file_extension": ".py",
   "mimetype": "text/x-python",
   "name": "python",
   "nbconvert_exporter": "python",
   "pygments_lexer": "ipython3",
   "version": "3.8.10"
  }
 },
 "nbformat": 4,
 "nbformat_minor": 5
}
