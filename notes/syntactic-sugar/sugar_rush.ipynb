{
 "cells": [
  {
   "cell_type": "code",
   "execution_count": 1,
   "id": "6e1735f3",
   "metadata": {},
   "outputs": [],
   "source": [
    "def desugar(code, func_name, func_args, func_body):\n",
    "    \"\"\"\n",
    "    Replaces all occurences of \n",
    "       foo = func_name(func_args) \n",
    "    with\n",
    "       func_body[x->a,y->b]\n",
    "       foo = [result returned in func_body]    \n",
    "    \"\"\"\n",
    "    # Uses Python regular expressions to simplify the search and replace,\n",
    "    # see https://docs.python.org/3/library/re.html and Chapter 9 of the book\n",
    "\n",
    "    # regular expression for capturing a list of variable names separated by commas\n",
    "    arglist = \",\".join([r\"([a-zA-Z0-9\\_\\[\\]]+)\" for i in range(len(func_args))])\n",
    "    # regular expression for capturing a statement of the form\n",
    "    # \"variable = func_name(arguments)\"\n",
    "    regexp = fr'([a-zA-Z0-9\\_\\[\\]]+)\\s*=\\s*{func_name}\\({arglist}\\)\\s*$'\n",
    "    while True:\n",
    "        m = re.search(regexp, code, re.MULTILINE)\n",
    "        if not m: break\n",
    "        newcode = func_body \n",
    "        # replace function arguments by the variables from the function invocation\n",
    "        for i in range(len(func_args)): \n",
    "            newcode = newcode.replace(func_args[i], m.group(i+2))\n",
    "        # Splice the new code inside\n",
    "        newcode = newcode.replace('return', m.group(1) + \" = \")\n",
    "        code = code[:m.start()] + newcode + code[m.end()+1:]\n",
    "    return code"
   ]
  },
  {
   "cell_type": "code",
   "execution_count": 2,
   "id": "658db209",
   "metadata": {},
   "outputs": [],
   "source": [
    "def parse_func(code):\n",
    "    \"\"\"Parse a function definition into name, arguments and body\"\"\"\n",
    "    lines = [l.strip() for l in code.split('\\n')]\n",
    "    regexp = r'def\\s+([a-zA-Z\\_0-9]+)\\(([\\sa-zA-Z0-9\\_,]+)\\)\\s*:\\s*'\n",
    "    m = re.match(regexp, lines[0])\n",
    "    return m.group(1), m.group(2).split(','), '\\n'.join(lines[1:])"
   ]
  },
  {
   "cell_type": "code",
   "execution_count": 4,
   "id": "5a1ce3cd",
   "metadata": {},
   "outputs": [],
   "source": [
    "def IF(cond, a, b):\n",
    "    \"\"\"NAND-CIRC Implementation\"\"\"\n",
    "    notcond = NAND(cond, cond)\n",
    "    temp = NAND(b, notcond)\n",
    "    temp1 = NAND(a, cond)\n",
    "    return NAND(temp, temp1)"
   ]
  },
  {
   "cell_type": "code",
   "execution_count": 6,
   "id": "c7d57db7",
   "metadata": {},
   "outputs": [],
   "source": [
    "def IF(cond, a, b):\n",
    "    t1 = AND(cond, a)\n",
    "    notcond = NOT(cond)\n",
    "    t2 = AND(notcond, b)\n",
    "    return OR(t1, t2)"
   ]
  },
  {
   "cell_type": "code",
   "execution_count": 11,
   "id": "83464ca8",
   "metadata": {},
   "outputs": [
    {
     "ename": "NameError",
     "evalue": "name 'zero' is not defined",
     "output_type": "error",
     "traceback": [
      "\u001b[0;31m---------------------------------------------------------------------------\u001b[0m",
      "\u001b[0;31mNameError\u001b[0m                                 Traceback (most recent call last)",
      "Input \u001b[0;32mIn [11]\u001b[0m, in \u001b[0;36m<module>\u001b[0;34m\u001b[0m\n\u001b[1;32m     14\u001b[0m     Result[n] \u001b[38;5;241m=\u001b[39m Carry[n]\n\u001b[1;32m     15\u001b[0m     \u001b[38;5;28;01mreturn\u001b[39;00m Result\n\u001b[0;32m---> 17\u001b[0m \u001b[43mADD\u001b[49m\u001b[43m(\u001b[49m\u001b[43m[\u001b[49m\u001b[38;5;241;43m1\u001b[39;49m\u001b[43m,\u001b[49m\u001b[43m \u001b[49m\u001b[38;5;241;43m1\u001b[39;49m\u001b[43m,\u001b[49m\u001b[43m \u001b[49m\u001b[38;5;241;43m1\u001b[39;49m\u001b[43m,\u001b[49m\u001b[43m \u001b[49m\u001b[38;5;241;43m0\u001b[39;49m\u001b[43m,\u001b[49m\u001b[43m \u001b[49m\u001b[38;5;241;43m0\u001b[39;49m\u001b[43m]\u001b[49m\u001b[43m,\u001b[49m\u001b[43m \u001b[49m\u001b[43m[\u001b[49m\u001b[38;5;241;43m1\u001b[39;49m\u001b[43m,\u001b[49m\u001b[43m \u001b[49m\u001b[38;5;241;43m0\u001b[39;49m\u001b[43m,\u001b[49m\u001b[43m \u001b[49m\u001b[38;5;241;43m0\u001b[39;49m\u001b[43m,\u001b[49m\u001b[43m \u001b[49m\u001b[38;5;241;43m0\u001b[39;49m\u001b[43m,\u001b[49m\u001b[43m \u001b[49m\u001b[38;5;241;43m0\u001b[39;49m\u001b[43m]\u001b[49m\u001b[43m)\u001b[49m\n",
      "Input \u001b[0;32mIn [11]\u001b[0m, in \u001b[0;36mADD\u001b[0;34m(A, B)\u001b[0m\n\u001b[1;32m      7\u001b[0m Result \u001b[38;5;241m=\u001b[39m [\u001b[38;5;241m0\u001b[39m] \u001b[38;5;241m*\u001b[39m (n\u001b[38;5;241m+\u001b[39m\u001b[38;5;241m1\u001b[39m)\n\u001b[1;32m      8\u001b[0m Carry  \u001b[38;5;241m=\u001b[39m [\u001b[38;5;241m0\u001b[39m] \u001b[38;5;241m*\u001b[39m (n\u001b[38;5;241m+\u001b[39m\u001b[38;5;241m1\u001b[39m)\n\u001b[0;32m----> 9\u001b[0m Carry[\u001b[38;5;241m0\u001b[39m] \u001b[38;5;241m=\u001b[39m \u001b[43mzero\u001b[49m(A[\u001b[38;5;241m0\u001b[39m])\n\u001b[1;32m     11\u001b[0m \u001b[38;5;28;01mfor\u001b[39;00m i \u001b[38;5;129;01min\u001b[39;00m \u001b[38;5;28mrange\u001b[39m(n):\n\u001b[1;32m     12\u001b[0m     Result[i] \u001b[38;5;241m=\u001b[39m XOR(Carry[i], XOR(A[i], B[i]))\n",
      "\u001b[0;31mNameError\u001b[0m: name 'zero' is not defined"
     ]
    }
   ],
   "source": [
    "# Add two n-bit integers\n",
    "# Use LSB first notation for simplicity\n",
    "\n",
    "n = 5 # number of bits\n",
    "\n",
    "def ADD(A, B):\n",
    "    \"\"\"\n",
    "    n = fixed integer\n",
    "    input = 2n bits\n",
    "    output = n + 1 bits\n",
    "    \"\"\"\n",
    "    Result = [0] * (n+1)\n",
    "    Carry  = [0] * (n+1)\n",
    "    Carry[0] = zero(A[0])\n",
    "    \n",
    "    for i in range(n):\n",
    "        Result[i] = XOR(Carry[i], XOR(A[i], B[i]))\n",
    "        Carry[i+1] = MAJ(Carry[i], A[i], B[i])\n",
    "\n",
    "    Result[n] = Carry[n]\n",
    "    return Result\n",
    "\n",
    "ADD([1, 1, 1, 0, 0], [1, 0, 0, 0, 0]) # [0, 0, 0, 1, 0, 0]"
   ]
  },
  {
   "cell_type": "code",
   "execution_count": null,
   "id": "7063b52a",
   "metadata": {},
   "outputs": [],
   "source": []
  },
  {
   "cell_type": "code",
   "execution_count": null,
   "id": "b5fd8da4",
   "metadata": {},
   "outputs": [],
   "source": []
  }
 ],
 "metadata": {
  "kernelspec": {
   "display_name": "Python 3 (ipykernel)",
   "language": "python",
   "name": "python3"
  },
  "language_info": {
   "codemirror_mode": {
    "name": "ipython",
    "version": 3
   },
   "file_extension": ".py",
   "mimetype": "text/x-python",
   "name": "python",
   "nbconvert_exporter": "python",
   "pygments_lexer": "ipython3",
   "version": "3.8.10"
  }
 },
 "nbformat": 4,
 "nbformat_minor": 5
}
