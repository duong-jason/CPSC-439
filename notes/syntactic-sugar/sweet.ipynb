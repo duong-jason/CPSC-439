{
 "cells": [
  {
   "cell_type": "markdown",
   "id": "396f94cb",
   "metadata": {},
   "source": [
    "# Syntactic-Sugar (Book's Code)\n",
    "---\n",
    "At the moment, I am struggling"
   ]
  },
  {
   "cell_type": "code",
   "execution_count": 5,
   "id": "ada5d4db",
   "metadata": {},
   "outputs": [],
   "source": [
    "import re"
   ]
  },
  {
   "cell_type": "code",
   "execution_count": null,
   "id": "e1565bb0",
   "metadata": {},
   "outputs": [],
   "source": [
    "def desugar(code, func_name, func_args, func_body):\n",
    "    \"\"\"\n",
    "    Replaces all occurences of \n",
    "       foo = func_name(func_args) \n",
    "    with\n",
    "       func_body[x->a,y->b]\n",
    "       foo = [result returned in func_body]    \n",
    "    \"\"\"\n",
    "    # Uses Python regular expressions to simplify the search and replace,\n",
    "    # see https://docs.python.org/3/library/re.html and Chapter 9 of the book\n",
    "\n",
    "    # regular expression for capturing a list of variable names separated by commas\n",
    "    arglist = \",\".join([r\"([a-zA-Z0-9\\_\\[\\]]+)\" for i in range(len(func_args))])\n",
    "    # regular expression for capturing a statement of the form\n",
    "    # \"variable = func_name(arguments)\"\n",
    "    regexp = fr'([a-zA-Z0-9\\_\\[\\]]+)\\s*=\\s*{func_name}\\({arglist}\\)\\s*$'\n",
    "    while True:\n",
    "        m = re.search(regexp, code, re.MULTILINE)\n",
    "        if not m: break\n",
    "        newcode = func_body \n",
    "        # replace function arguments by the variables from the function invocation\n",
    "        for i in range(len(func_args)): \n",
    "            newcode = newcode.replace(func_args[i], m.group(i+2))\n",
    "        # Splice the new code inside\n",
    "        newcode = newcode.replace('return', m.group(1) + \" = \")\n",
    "        code = code[:m.start()] + newcode + code[m.end()+1:]\n",
    "    return code"
   ]
  },
  {
   "cell_type": "code",
   "execution_count": 12,
   "id": "658db209",
   "metadata": {},
   "outputs": [],
   "source": [
    "def parse_func(code):\n",
    "    \"\"\"Parse a function definition into name, arguments and body\"\"\"\n",
    "    lines = [l.strip() for l in code.split('\\n')]\n",
    "    regexp = r'def\\s+([a-zA-Z\\_0-9]+)\\(([\\sa-zA-Z0-9\\_,]+)\\)\\s*:\\s*'\n",
    "    m = re.match(regexp, lines[0])\n",
    "    return m.group(1), m.group(2).split(','), '\\n'.join(lines[1:])"
   ]
  },
  {
   "cell_type": "code",
   "execution_count": 13,
   "id": "5a1ce3cd",
   "metadata": {},
   "outputs": [],
   "source": [
    "def IF(cond, a, b):\n",
    "    \"\"\"Version #1\"\"\"\n",
    "    notcond = NAND(cond, cond)\n",
    "    temp = NAND(b, notcond)    # check if condition = False\n",
    "    temp1 = NAND(a, cond)      # check if condition = True\n",
    "    return NAND(temp, temp1)"
   ]
  },
  {
   "cell_type": "code",
   "execution_count": 14,
   "id": "c7d57db7",
   "metadata": {},
   "outputs": [],
   "source": [
    "def IF(cond, a, b):\n",
    "    \"\"\"Version #2\"\"\"\n",
    "    t1 = AND(cond, a)          # check if condition = True\n",
    "    notcond = NOT(cond)\n",
    "    t2 = AND(notcond, b)       # check if condition = False\n",
    "    return OR(t1, t2)          # either t1 or t2 will be True, not Both"
   ]
  },
  {
   "cell_type": "code",
   "execution_count": 15,
   "id": "83464ca8",
   "metadata": {},
   "outputs": [],
   "source": [
    "# Add two n-bit integers\n",
    "# Use LSB first notation for simplicity\n",
    "\n",
    "n = 5 # number of bits\n",
    "\n",
    "def ADD(A, B):\n",
    "    \"\"\"\n",
    "    n = fixed integer\n",
    "    input = 2n bits\n",
    "    output = n + 1 bits\n",
    "    \"\"\"\n",
    "    Result = [0] * (n+1)\n",
    "    Carry  = [0] * (n+1)\n",
    "    Carry[0] = zero(A[0])\n",
    "    \n",
    "    for i in range(n):\n",
    "        Result[i] = XOR(Carry[i], XOR(A[i], B[i]))\n",
    "        Carry[i+1] = MAJ(Carry[i], A[i], B[i])\n",
    "\n",
    "    Result[n] = Carry[n]\n",
    "    return Result\n",
    "\n",
    "# ADD([1, 1, 1, 0, 0], [1, 0, 0, 0, 0]) # [0, 0, 0, 1, 0, 0]"
   ]
  },
  {
   "cell_type": "code",
   "execution_count": null,
   "id": "7063b52a",
   "metadata": {},
   "outputs": [],
   "source": [
    "def LOOKUP1(X[0], X[1], i):\n",
    "    return X[0] if i == 0 else X[1]"
   ]
  },
  {
   "cell_type": "code",
   "execution_count": null,
   "id": "585ce5ff",
   "metadata": {},
   "outputs": [],
   "source": [
    "def LOOKUP2(X[0], X[1], X[2], X[3], i[0], i[1]):\n",
    "    \"\"\"Version #1\"\"\"\n",
    "    # i[1] is the offset bit\n",
    "    if i[0] == 1: # MSB = 1 -> Higher-Order Bits\n",
    "        return LOOKUP1(X[2], X[3], i[1])\n",
    "    else: # MSB = 0 -> Lower-Order Bits\n",
    "        return LOOKUP1(X[0], X[1], i[1])"
   ]
  },
  {
   "cell_type": "code",
   "execution_count": null,
   "id": "b5fd8da4",
   "metadata": {},
   "outputs": [],
   "source": [
    "def LOOKUP2(X[0], X[1], X[2], X[3], i[0], i[1]):\n",
    "    \"\"\"Version #2\"\"\"\n",
    "    # i[1] is the offset bit\n",
    "    a = LOOKUP1(X[2], X[3], i[1])\n",
    "    b = LOOKUP1(X[0], X[1], i[1])\n",
    "    return IF(i[0], a, b)"
   ]
  },
  {
   "cell_type": "code",
   "execution_count": 5,
   "id": "c9d7d668",
   "metadata": {},
   "outputs": [],
   "source": [
    "# K: number of bits\n",
    "# X: array of decimal values ranging from [0, 2(K-1)]\n",
    "# I: array of bits of length [0, K-1]\n",
    "\n",
    "def LOOKUP_RECURSE(K, X, I):\n",
    "    return IF(I[0],\n",
    "              LOOKUP_RECURSE(I[1], X[2**(k-1)::(2**k)-1], I[1::K-1]), # I[0] is 1\n",
    "              LOOKUP_RECURSE(I[1], X[::2**(k-1)-1], I[1::K-1])) # I[0] is 0\n",
    "    \n",
    "def L(k) -> int:\n",
    "    # K = number of lines required for LOOKUP_RECURSE\n",
    "    return 2*L(K-1) + 4"
   ]
  },
  {
   "cell_type": "markdown",
   "id": "12a9963d",
   "metadata": {},
   "source": [
    "<em>Every finite function can be computed by a large enough Boolean Circuit</em>"
   ]
  }
 ],
 "metadata": {
  "kernelspec": {
   "display_name": "Python 3 (ipykernel)",
   "language": "python",
   "name": "python3"
  },
  "language_info": {
   "codemirror_mode": {
    "name": "ipython",
    "version": 3
   },
   "file_extension": ".py",
   "mimetype": "text/x-python",
   "name": "python",
   "nbconvert_exporter": "python",
   "pygments_lexer": "ipython3",
   "version": "3.8.10"
  }
 },
 "nbformat": 4,
 "nbformat_minor": 5
}
