{
 "cells": [
  {
   "cell_type": "code",
   "execution_count": 12,
   "metadata": {},
   "outputs": [],
   "source": [
    "def inc(x):\n",
    "    return x + 1\n",
    "\n",
    "def debug(n):\n",
    "    print(n(inc)(0))"
   ]
  },
  {
   "cell_type": "code",
   "execution_count": 14,
   "metadata": {},
   "outputs": [],
   "source": [
    "'''\n",
    "Restrictions: -> represents a behavior\n",
    "    - no ops/objects/data types/control flow\n",
    "    - single arguments functions\n",
    "'''\n",
    "\n",
    "# Examples\n",
    "\n",
    "def f(x):\n",
    "    return x(x)\n",
    "\n",
    "def f(x):\n",
    "    def g(y):\n",
    "        return x(y)\n",
    "    return g"
   ]
  },
  {
   "cell_type": "code",
   "execution_count": 15,
   "metadata": {},
   "outputs": [
    {
     "name": "stdout",
     "output_type": "stream",
     "text": [
      "2\n",
      "1\n",
      "5v\n",
      "gnd\n"
     ]
    }
   ],
   "source": [
    "def LEFT(a):\n",
    "    def f(b):\n",
    "        print('1')\n",
    "        return a\n",
    "    print('2')\n",
    "    return f\n",
    "\n",
    "def RIGHT(a):\n",
    "    def f(b):\n",
    "        return b\n",
    "    return f\n",
    "\n",
    "print(LEFT('5v')('gnd'))\n",
    "print(RIGHT('5v')('gnd'))"
   ]
  },
  {
   "cell_type": "code",
   "execution_count": 69,
   "metadata": {},
   "outputs": [
    {
     "name": "stdout",
     "output_type": "stream",
     "text": [
      "5\n"
     ]
    }
   ],
   "source": [
    "# Currying\n",
    "\n",
    "def add(x):\n",
    "    def f(y):\n",
    "        return x + y\n",
    "    return f\n",
    "\n",
    "print(add(2)(3))"
   ]
  },
  {
   "cell_type": "code",
   "execution_count": 22,
   "metadata": {},
   "outputs": [
    {
     "name": "stdout",
     "output_type": "stream",
     "text": [
      "5v\n",
      "gnd\n",
      "<function FALSE at 0x7f8044d52700>\n",
      "<function FALSE at 0x7f8044d52700>\n",
      "<function TRUE at 0x7f8044d52b80>\n"
     ]
    }
   ],
   "source": [
    "def TRUE(x):  return lambda y: x\n",
    "def FALSE(x): return lambda y: y\n",
    "\n",
    "def NOT(x): return x(FALSE)(TRUE)\n",
    "def AND(x): return lambda y: x(y)(x)\n",
    "def OR(x): return lambda y: x(x)(y)\n",
    "    \n",
    "print(TRUE('5v')('gnd'))\n",
    "print(FALSE('5v')('gnd'))\n",
    "print(NOT(TRUE))\n",
    "print(AND(FALSE)(TRUE))\n",
    "print(OR(TRUE)(FALSE))"
   ]
  },
  {
   "cell_type": "code",
   "execution_count": 71,
   "metadata": {},
   "outputs": [
    {
     "name": "stdout",
     "output_type": "stream",
     "text": [
      "3\n",
      "***\n",
      "8\n"
     ]
    }
   ],
   "source": [
    "ZERO  = lambda f : lambda x: x\n",
    "ONE   = lambda f: lambda x: f(x)\n",
    "TWO   = lambda f: lambda x: f(f(x))\n",
    "THREE = lambda f: lambda x: f(f(f(x)))\n",
    "\n",
    "debug(THREE)\n",
    "print(THREE(lambda f: '*' + f)(''))\n",
    "\n",
    "debug(THREE(TWO)) # 2^3 = 8"
   ]
  },
  {
   "cell_type": "code",
   "execution_count": 57,
   "metadata": {},
   "outputs": [
    {
     "name": "stdout",
     "output_type": "stream",
     "text": [
      "4\n"
     ]
    }
   ],
   "source": [
    "# Implement Successor\n",
    "\n",
    "SUCC = lambda n: (lambda f: lambda x: f(n(f)(x)))\n",
    "debug(SUCC(THREE)(inc))"
   ]
  },
  {
   "cell_type": "code",
   "execution_count": 72,
   "metadata": {},
   "outputs": [
    {
     "name": "stdout",
     "output_type": "stream",
     "text": [
      "5\n",
      "6\n"
     ]
    }
   ],
   "source": [
    "ADD = lambda x: lambda y: y(SUCC)(x)\n",
    "debug(ADD(TWO)(THREE))\n",
    "\n",
    "MUL = lambda x: lambda y: lambda f: y(x(f))\n",
    "debug(MUL(THREE)(TWO))"
   ]
  },
  {
   "cell_type": "code",
   "execution_count": 11,
   "metadata": {},
   "outputs": [
    {
     "name": "stdout",
     "output_type": "stream",
     "text": [
      "{'c': 42}\n"
     ]
    },
    {
     "data": {
      "text/plain": [
       "42"
      ]
     },
     "execution_count": 11,
     "metadata": {},
     "output_type": "execute_result"
    }
   ],
   "source": [
    "data = {\n",
    "    'a': {\n",
    "        'b': {\n",
    "            'c': 42\n",
    "        }\n",
    "    }\n",
    "}\n",
    "\n",
    "def perhaps(d, func):\n",
    "    if d is not None:\n",
    "        return func(d)\n",
    "    else:\n",
    "        return None\n",
    "\n",
    "print(perhaps(perhaps(data, lambda d: d.get('a')), lambda d: d.get('b')))\n",
    "\n",
    "class Perhaps:\n",
    "    def __init__(self, value):\n",
    "        self._value = value\n",
    "    \n",
    "    def __rshift__(self, other):\n",
    "        if self._value is not None:\n",
    "            return Perhaps(other(self._value))\n",
    "        else:\n",
    "            return self\n",
    "    \n",
    "Perhaps(data) >> (lambda d: d.get('a')) \\\n",
    "              >> (lambda d: d.get('b')) \\\n",
    "              >> (lambda d: d.get('c'))\n",
    "\n",
    "_._value"
   ]
  },
  {
   "cell_type": "code",
   "execution_count": null,
   "metadata": {},
   "outputs": [],
   "source": [
    "def AND(x):\n",
    "    def f(y):\n",
    "        return x(y)(x)\n",
    "    return f\n",
    "\n",
    "def AND(x):\n",
    "    return lambda y: x(y)(x)\n",
    "\n",
    "AND = lambda x: lambda y: x(y)(x)\n",
    "AND = λx:λy:x(y)(x)\n",
    "AND = λxy:x(y)(x)\n",
    "AND = λxy:xyx\n",
    "AND = λxy.xyx\n",
    "\n",
    "# __alpha conversion: rename unique arguments__\n",
    "AND = λxy.xyx = λzy.zyz\n",
    "\n",
    "# __beta reduction: substitute arguments__\n",
    "(λxy.xyx)(ab) => λy.(ab)y(ab)\n",
    "\n",
    "# __no name clash (scope issue)___\n",
    "(λxy.xyx)(xy)\n",
    "def AND(x):\n",
    "    def f(y):\n",
    "        return x(y)(x)\n",
    "    return f\n",
    "\n",
    "def AND(x):\n",
    "    return lambda y: x(y)(x)\n",
    "\n",
    "AND = lambda x: lambda y: x(y)(x)\n",
    "AND = λx:λy:x(y)(x)\n",
    "AND = λxy:x(y)(x)\n",
    "AND = λxy:xyx\n",
    "AND = λxy.xyx\n",
    "\n",
    "# __alpha conversion: rename unique arguments__\n",
    "AND = λxy.xyx = λzy.zyz\n",
    "\n",
    "# __beta conversion: substitute arguments__\n",
    "(λxy.xyx)(ab) => λy.(ab)y(ab)\n",
    "\n",
    "# __no name clash (scope issue)___\n",
    "(λxy.xyx)(xy)\n",
    "(λxy.xyx)(y)"
   ]
  },
  {
   "cell_type": "code",
   "execution_count": 25,
   "metadata": {},
   "outputs": [
    {
     "name": "stdout",
     "output_type": "stream",
     "text": [
      "2\n",
      "3\n",
      "2\n",
      "3\n"
     ]
    }
   ],
   "source": [
    "# Buiding a Data Structure\n",
    "\n",
    "def cons(a, b):\n",
    "    def select(m):\n",
    "        if m == 0:\n",
    "            return a\n",
    "        elif m == 1:\n",
    "            return b\n",
    "    return select\n",
    "\n",
    "p = cons(2, 3)\n",
    "print(p(0))\n",
    "\n",
    "# Switch\n",
    "CONS = lambda a: lambda b: (lambda s: s(a)(b))\n",
    "p = CONS(2)(3)\n",
    "print(p(FALSE))\n",
    "\n",
    "CAR = lambda p: p(TRUE)\n",
    "CDR = lambda p: p(FALSE)\n",
    "\n",
    "print(CAR(p))\n",
    "print(CDR(p))"
   ]
  },
  {
   "cell_type": "code",
   "execution_count": null,
   "metadata": {},
   "outputs": [],
   "source": []
  }
 ],
 "metadata": {
  "interpreter": {
   "hash": "b0fa6594d8f4cbf19f97940f81e996739fb7646882a419484c72d19e05852a7e"
  },
  "kernelspec": {
   "display_name": "Python 3 (ipykernel)",
   "language": "python",
   "name": "python3"
  },
  "language_info": {
   "codemirror_mode": {
    "name": "ipython",
    "version": 3
   },
   "file_extension": ".py",
   "mimetype": "text/x-python",
   "name": "python",
   "nbconvert_exporter": "python",
   "pygments_lexer": "ipython3",
   "version": "3.8.10"
  }
 },
 "nbformat": 4,
 "nbformat_minor": 2
}
