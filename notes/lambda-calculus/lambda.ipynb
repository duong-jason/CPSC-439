{
 "cells": [
  {
   "cell_type": "code",
   "execution_count": 66,
   "metadata": {},
   "outputs": [
    {
     "name": "stdout",
     "output_type": "stream",
     "text": [
      "7\n"
     ]
    }
   ],
   "source": [
    "def inc(x): return x + 1\n",
    "\n",
    "def debug(n):\n",
    "    print(n(inc)(0))\n",
    "\n",
    "f = lambda x: 3 * x + 1\n",
    "print(f(2))"
   ]
  },
  {
   "cell_type": "code",
   "execution_count": 67,
   "metadata": {},
   "outputs": [],
   "source": [
    "'''\n",
    "Restrictions: -> represents a behavior\n",
    "    - no ops/objects/data types/control flow\n",
    "    - single arguments functions\n",
    "'''\n",
    "\n",
    "def f(x):\n",
    "    return x(x)\n",
    "\n",
    "def f(x):\n",
    "    def g(y):\n",
    "        return x(y)\n",
    "    return g"
   ]
  },
  {
   "cell_type": "code",
   "execution_count": 68,
   "metadata": {},
   "outputs": [
    {
     "name": "stdout",
     "output_type": "stream",
     "text": [
      "2\n",
      "1\n",
      "5v\n",
      "gnd\n"
     ]
    }
   ],
   "source": [
    "def LEFT(a):\n",
    "    def f(b):\n",
    "        print('1')\n",
    "        return a\n",
    "    print('2')\n",
    "    return f\n",
    "\n",
    "def RIGHT(a):\n",
    "    def f(b):\n",
    "        return b\n",
    "    return f\n",
    "\n",
    "print(LEFT('5v')('gnd'))\n",
    "print(RIGHT('5v')('gnd'))"
   ]
  },
  {
   "cell_type": "code",
   "execution_count": 69,
   "metadata": {},
   "outputs": [
    {
     "name": "stdout",
     "output_type": "stream",
     "text": [
      "5\n"
     ]
    }
   ],
   "source": [
    "# Currying\n",
    "\n",
    "def add(x):\n",
    "    def f(y):\n",
    "        return x + y\n",
    "    return f\n",
    "\n",
    "print(add(2)(3))"
   ]
  },
  {
   "cell_type": "code",
   "execution_count": 70,
   "metadata": {},
   "outputs": [
    {
     "name": "stdout",
     "output_type": "stream",
     "text": [
      "5v\n",
      "gnd\n",
      "<function FALSE at 0x105f1e160>\n",
      "<function FALSE at 0x105f1e160>\n",
      "<function TRUE at 0x105f964c0>\n"
     ]
    }
   ],
   "source": [
    "def TRUE(x):  return lambda y: x\n",
    "def FALSE(x): return lambda y: y\n",
    "\n",
    "def NOT(x): return x(FALSE)(TRUE)\n",
    "def AND(x): return lambda y: x(y)(x)\n",
    "def OR(x): return lambda y: x(x)(y)\n",
    "    \n",
    "print(TRUE('5v')('gnd'))\n",
    "print(FALSE('5v')('gnd'))\n",
    "print(NOT(TRUE))\n",
    "print(AND(FALSE)(TRUE))\n",
    "print(OR(TRUE)(FALSE))"
   ]
  },
  {
   "cell_type": "code",
   "execution_count": 71,
   "metadata": {},
   "outputs": [
    {
     "name": "stdout",
     "output_type": "stream",
     "text": [
      "3\n",
      "***\n",
      "8\n"
     ]
    }
   ],
   "source": [
    "ZERO  = lambda f : lambda x: x\n",
    "ONE   = lambda f: lambda x: f(x)\n",
    "TWO   = lambda f: lambda x: f(f(x))\n",
    "THREE = lambda f: lambda x: f(f(f(x)))\n",
    "\n",
    "debug(THREE)\n",
    "print(THREE(lambda f: '*' + f)(''))\n",
    "\n",
    "debug(THREE(TWO)) # 2^3 = 8"
   ]
  },
  {
   "cell_type": "code",
   "execution_count": 57,
   "metadata": {},
   "outputs": [
    {
     "name": "stdout",
     "output_type": "stream",
     "text": [
      "4\n"
     ]
    }
   ],
   "source": [
    "# Implement Successor\n",
    "\n",
    "SUCC = lambda n: (lambda f: lambda x: f(n(f)(x)))\n",
    "debug(SUCC(THREE)(inc))"
   ]
  },
  {
   "cell_type": "code",
   "execution_count": 72,
   "metadata": {},
   "outputs": [
    {
     "name": "stdout",
     "output_type": "stream",
     "text": [
      "5\n",
      "6\n"
     ]
    }
   ],
   "source": [
    "ADD = lambda x: lambda y: y(SUCC)(x)\n",
    "debug(ADD(TWO)(THREE))\n",
    "\n",
    "MUL = lambda x: lambda y: lambda f: y(x(f))\n",
    "debug(MUL(THREE)(TWO))"
   ]
  },
  {
   "cell_type": "code",
   "execution_count": null,
   "metadata": {},
   "outputs": [],
   "source": []
  }
 ],
 "metadata": {
  "interpreter": {
   "hash": "b0fa6594d8f4cbf19f97940f81e996739fb7646882a419484c72d19e05852a7e"
  },
  "kernelspec": {
   "display_name": "Python 3 (ipykernel)",
   "language": "python",
   "name": "python3"
  },
  "language_info": {
   "codemirror_mode": {
    "name": "ipython",
    "version": 3
   },
   "file_extension": ".py",
   "mimetype": "text/x-python",
   "name": "python",
   "nbconvert_exporter": "python",
   "pygments_lexer": "ipython3",
   "version": "3.9.12"
  }
 },
 "nbformat": 4,
 "nbformat_minor": 2
}
