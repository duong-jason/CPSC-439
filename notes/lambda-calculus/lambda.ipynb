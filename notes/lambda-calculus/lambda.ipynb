{
 "cells": [
  {
   "cell_type": "code",
   "execution_count": 4,
   "metadata": {},
   "outputs": [
    {
     "name": "stdout",
     "output_type": "stream",
     "text": [
      "7\n"
     ]
    }
   ],
   "source": [
    "f = lambda x: 3 * x + 1\n",
    "print(f(2))"
   ]
  },
  {
   "cell_type": "code",
   "execution_count": 5,
   "metadata": {},
   "outputs": [],
   "source": [
    "'''\n",
    "Restrictions:\n",
    "    - no ops/objects/data types/control flow\n",
    "    - single arguments functions\n",
    "'''\n",
    "\n",
    "def f(x):\n",
    "    def g(y):\n",
    "        return x(y)\n",
    "    return g"
   ]
  },
  {
   "cell_type": "code",
   "execution_count": 9,
   "metadata": {},
   "outputs": [
    {
     "name": "stdout",
     "output_type": "stream",
     "text": [
      "5v\n",
      "gnd\n"
     ]
    }
   ],
   "source": [
    "# Switch - represents a behavior\n",
    "\n",
    "def LEFT(a):\n",
    "    def f(b):\n",
    "        return a\n",
    "    return f\n",
    "\n",
    "def RIGHT(a):\n",
    "    def f(b):\n",
    "        return b\n",
    "    return f\n",
    "\n",
    "print(LEFT('5v')('gnd'))\n",
    "print(RIGHT('5v')('gnd'))"
   ]
  },
  {
   "cell_type": "code",
   "execution_count": 10,
   "metadata": {},
   "outputs": [
    {
     "name": "stdout",
     "output_type": "stream",
     "text": [
      "5\n"
     ]
    }
   ],
   "source": [
    "# Currying\n",
    "\n",
    "def add(x):\n",
    "    def f(y):\n",
    "        return x + y\n",
    "    return f\n",
    "\n",
    "print(add(2)(3))"
   ]
  },
  {
   "cell_type": "code",
   "execution_count": 14,
   "metadata": {},
   "outputs": [
    {
     "name": "stdout",
     "output_type": "stream",
     "text": [
      "5v\n",
      "gnd\n"
     ]
    }
   ],
   "source": [
    "def TRUE(x):\n",
    "    return lambda y: x\n",
    "\n",
    "def FALSE(x):\n",
    "    return lambda y: y\n",
    "\n",
    "def NOT(x):\n",
    "    return x\n",
    "\n",
    "assert NOT(TRUE) is FALSE\n",
    "assert NOT(FALSE) is TRUE\n",
    "\n",
    "print(TRUE('5v')('gnd'))\n",
    "print(FALSE('5v')('gnd'))"
   ]
  },
  {
   "cell_type": "code",
   "execution_count": null,
   "metadata": {},
   "outputs": [],
   "source": []
  }
 ],
 "metadata": {
  "interpreter": {
   "hash": "b0fa6594d8f4cbf19f97940f81e996739fb7646882a419484c72d19e05852a7e"
  },
  "kernelspec": {
   "display_name": "Python 3.9.12 64-bit",
   "language": "python",
   "name": "python3"
  },
  "language_info": {
   "codemirror_mode": {
    "name": "ipython",
    "version": 3
   },
   "file_extension": ".py",
   "mimetype": "text/x-python",
   "name": "python",
   "nbconvert_exporter": "python",
   "pygments_lexer": "ipython3",
   "version": "3.9.12"
  },
  "orig_nbformat": 4
 },
 "nbformat": 4,
 "nbformat_minor": 2
}
