{
 "cells": [
  {
   "cell_type": "code",
   "execution_count": 1,
   "metadata": {},
   "outputs": [],
   "source": [
    "def inc(x):\n",
    "    return x + 1\n",
    "\n",
    "def debug(n):\n",
    "    print(n(inc)(0))"
   ]
  },
  {
   "cell_type": "markdown",
   "metadata": {},
   "source": [
    "### Restrictions: represents a behavior\n",
    "  *  no ops/objects/data types/control flow\n",
    "  * single arguments functions"
   ]
  },
  {
   "cell_type": "code",
   "execution_count": 2,
   "metadata": {},
   "outputs": [
    {
     "name": "stdout",
     "output_type": "stream",
     "text": [
      "5v\n",
      "gnd\n"
     ]
    }
   ],
   "source": [
    "def LEFT(a):\n",
    "    def f(b):\n",
    "        return a\n",
    "    return f\n",
    "\n",
    "def RIGHT(a):\n",
    "    def f(b):\n",
    "        return b\n",
    "    return f\n",
    "\n",
    "print(LEFT('5v')('gnd'))\n",
    "print(RIGHT('5v')('gnd'))"
   ]
  },
  {
   "cell_type": "code",
   "execution_count": 3,
   "metadata": {},
   "outputs": [
    {
     "name": "stdout",
     "output_type": "stream",
     "text": [
      "5\n"
     ]
    }
   ],
   "source": [
    "# Currying\n",
    "\n",
    "def add(x):\n",
    "    def f(y):\n",
    "        return x + y\n",
    "    return f\n",
    "\n",
    "print(add(2)(3))"
   ]
  },
  {
   "cell_type": "code",
   "execution_count": 4,
   "metadata": {},
   "outputs": [
    {
     "name": "stdout",
     "output_type": "stream",
     "text": [
      "5v\n",
      "gnd\n",
      "<function FALSE at 0x1060acd30>\n",
      "<function FALSE at 0x1060acd30>\n",
      "<function TRUE at 0x1060ac670>\n"
     ]
    }
   ],
   "source": [
    "def TRUE(x):  return lambda y: x\n",
    "def FALSE(x): return lambda y: y\n",
    "\n",
    "def NOT(x): return x(FALSE)(TRUE)\n",
    "def AND(x): return lambda y: x(y)(x)\n",
    "def OR(x): return lambda y: x(x)(y)\n",
    "    \n",
    "print(TRUE('5v')('gnd'))\n",
    "print(FALSE('5v')('gnd'))\n",
    "print(NOT(TRUE))\n",
    "print(AND(FALSE)(TRUE))\n",
    "print(OR(TRUE)(FALSE))"
   ]
  },
  {
   "cell_type": "code",
   "execution_count": 5,
   "metadata": {},
   "outputs": [
    {
     "name": "stdout",
     "output_type": "stream",
     "text": [
      "3\n",
      "***\n",
      "8\n"
     ]
    }
   ],
   "source": [
    "ZERO  = lambda f : lambda x: x\n",
    "ONE   = lambda f: lambda x: f(x)\n",
    "TWO   = lambda f: lambda x: f(f(x))\n",
    "THREE = lambda f: lambda x: f(f(f(x)))\n",
    "\n",
    "debug(THREE)\n",
    "print(THREE(lambda f: '*' + f)(''))\n",
    "\n",
    "debug(THREE(TWO)) # 2^3 = 8"
   ]
  },
  {
   "cell_type": "code",
   "execution_count": 6,
   "metadata": {},
   "outputs": [
    {
     "ename": "TypeError",
     "evalue": "unsupported operand type(s) for +: 'function' and 'int'",
     "output_type": "error",
     "traceback": [
      "\u001b[0;31m---------------------------------------------------------------------------\u001b[0m",
      "\u001b[0;31mTypeError\u001b[0m                                 Traceback (most recent call last)",
      "Input \u001b[0;32mIn [6]\u001b[0m, in \u001b[0;36m<cell line: 4>\u001b[0;34m()\u001b[0m\n\u001b[1;32m      1\u001b[0m \u001b[38;5;66;03m# Implement Successor\u001b[39;00m\n\u001b[1;32m      3\u001b[0m SUCC \u001b[38;5;241m=\u001b[39m \u001b[38;5;28;01mlambda\u001b[39;00m n: (\u001b[38;5;28;01mlambda\u001b[39;00m f: \u001b[38;5;28;01mlambda\u001b[39;00m x: f(n(f)(x)))\n\u001b[0;32m----> 4\u001b[0m \u001b[43mdebug\u001b[49m\u001b[43m(\u001b[49m\u001b[43mSUCC\u001b[49m\u001b[43m(\u001b[49m\u001b[43mTHREE\u001b[49m\u001b[43m)\u001b[49m\u001b[43m(\u001b[49m\u001b[43minc\u001b[49m\u001b[43m)\u001b[49m\u001b[43m)\u001b[49m\n",
      "Input \u001b[0;32mIn [1]\u001b[0m, in \u001b[0;36mdebug\u001b[0;34m(n)\u001b[0m\n\u001b[1;32m      4\u001b[0m \u001b[38;5;28;01mdef\u001b[39;00m \u001b[38;5;21mdebug\u001b[39m(n):\n\u001b[0;32m----> 5\u001b[0m     \u001b[38;5;28mprint\u001b[39m(\u001b[43mn\u001b[49m\u001b[43m(\u001b[49m\u001b[43minc\u001b[49m\u001b[43m)\u001b[49m(\u001b[38;5;241m0\u001b[39m))\n",
      "Input \u001b[0;32mIn [6]\u001b[0m, in \u001b[0;36m<lambda>\u001b[0;34m(x)\u001b[0m\n\u001b[1;32m      1\u001b[0m \u001b[38;5;66;03m# Implement Successor\u001b[39;00m\n\u001b[0;32m----> 3\u001b[0m SUCC \u001b[38;5;241m=\u001b[39m \u001b[38;5;28;01mlambda\u001b[39;00m n: (\u001b[38;5;28;01mlambda\u001b[39;00m f: \u001b[38;5;28;01mlambda\u001b[39;00m x: f(\u001b[43mn\u001b[49m\u001b[43m(\u001b[49m\u001b[43mf\u001b[49m\u001b[43m)\u001b[49m\u001b[43m(\u001b[49m\u001b[43mx\u001b[49m\u001b[43m)\u001b[49m))\n\u001b[1;32m      4\u001b[0m debug(SUCC(THREE)(inc))\n",
      "Input \u001b[0;32mIn [5]\u001b[0m, in \u001b[0;36m<lambda>\u001b[0;34m(x)\u001b[0m\n\u001b[1;32m      2\u001b[0m ONE   \u001b[38;5;241m=\u001b[39m \u001b[38;5;28;01mlambda\u001b[39;00m f: \u001b[38;5;28;01mlambda\u001b[39;00m x: f(x)\n\u001b[1;32m      3\u001b[0m TWO   \u001b[38;5;241m=\u001b[39m \u001b[38;5;28;01mlambda\u001b[39;00m f: \u001b[38;5;28;01mlambda\u001b[39;00m x: f(f(x))\n\u001b[0;32m----> 4\u001b[0m THREE \u001b[38;5;241m=\u001b[39m \u001b[38;5;28;01mlambda\u001b[39;00m f: \u001b[38;5;28;01mlambda\u001b[39;00m x: f(f(\u001b[43mf\u001b[49m\u001b[43m(\u001b[49m\u001b[43mx\u001b[49m\u001b[43m)\u001b[49m))\n\u001b[1;32m      6\u001b[0m debug(THREE)\n\u001b[1;32m      7\u001b[0m \u001b[38;5;28mprint\u001b[39m(THREE(\u001b[38;5;28;01mlambda\u001b[39;00m f: \u001b[38;5;124m'\u001b[39m\u001b[38;5;124m*\u001b[39m\u001b[38;5;124m'\u001b[39m \u001b[38;5;241m+\u001b[39m f)(\u001b[38;5;124m'\u001b[39m\u001b[38;5;124m'\u001b[39m))\n",
      "Input \u001b[0;32mIn [1]\u001b[0m, in \u001b[0;36minc\u001b[0;34m(x)\u001b[0m\n\u001b[1;32m      1\u001b[0m \u001b[38;5;28;01mdef\u001b[39;00m \u001b[38;5;21minc\u001b[39m(x):\n\u001b[0;32m----> 2\u001b[0m     \u001b[38;5;28;01mreturn\u001b[39;00m \u001b[43mx\u001b[49m\u001b[43m \u001b[49m\u001b[38;5;241;43m+\u001b[39;49m\u001b[43m \u001b[49m\u001b[38;5;241;43m1\u001b[39;49m\n",
      "\u001b[0;31mTypeError\u001b[0m: unsupported operand type(s) for +: 'function' and 'int'"
     ]
    }
   ],
   "source": [
    "# Implement Successor\n",
    "\n",
    "SUCC = lambda n: (lambda f: lambda x: f(n(f)(x)))\n",
    "debug(SUCC(THREE)(inc))"
   ]
  },
  {
   "cell_type": "code",
   "execution_count": null,
   "metadata": {},
   "outputs": [],
   "source": [
    "ADD = lambda x: lambda y: y(SUCC)(x)\n",
    "debug(ADD(TWO)(THREE))\n",
    "\n",
    "MUL = lambda x: lambda y: lambda f: y(x(f))\n",
    "debug(MUL(THREE)(TWO))"
   ]
  },
  {
   "cell_type": "code",
   "execution_count": 7,
   "metadata": {},
   "outputs": [
    {
     "name": "stdout",
     "output_type": "stream",
     "text": [
      "{'c': 42}\n"
     ]
    },
    {
     "ename": "AttributeError",
     "evalue": "'str' object has no attribute '_value'",
     "output_type": "error",
     "traceback": [
      "\u001b[0;31m---------------------------------------------------------------------------\u001b[0m",
      "\u001b[0;31mAttributeError\u001b[0m                            Traceback (most recent call last)",
      "Input \u001b[0;32mIn [7]\u001b[0m, in \u001b[0;36m<cell line: 31>\u001b[0;34m()\u001b[0m\n\u001b[1;32m     25\u001b[0m             \u001b[38;5;28;01mreturn\u001b[39;00m \u001b[38;5;28mself\u001b[39m\n\u001b[1;32m     27\u001b[0m Perhaps(data) \u001b[38;5;241m>>\u001b[39m (\u001b[38;5;28;01mlambda\u001b[39;00m d: d\u001b[38;5;241m.\u001b[39mget(\u001b[38;5;124m'\u001b[39m\u001b[38;5;124ma\u001b[39m\u001b[38;5;124m'\u001b[39m)) \\\n\u001b[1;32m     28\u001b[0m               \u001b[38;5;241m>>\u001b[39m (\u001b[38;5;28;01mlambda\u001b[39;00m d: d\u001b[38;5;241m.\u001b[39mget(\u001b[38;5;124m'\u001b[39m\u001b[38;5;124mb\u001b[39m\u001b[38;5;124m'\u001b[39m)) \\\n\u001b[1;32m     29\u001b[0m               \u001b[38;5;241m>>\u001b[39m (\u001b[38;5;28;01mlambda\u001b[39;00m d: d\u001b[38;5;241m.\u001b[39mget(\u001b[38;5;124m'\u001b[39m\u001b[38;5;124mc\u001b[39m\u001b[38;5;124m'\u001b[39m))\n\u001b[0;32m---> 31\u001b[0m \u001b[43m_\u001b[49m\u001b[38;5;241;43m.\u001b[39;49m\u001b[43m_value\u001b[49m\n",
      "\u001b[0;31mAttributeError\u001b[0m: 'str' object has no attribute '_value'"
     ]
    }
   ],
   "source": [
    "data = {\n",
    "    'a': {\n",
    "        'b': {\n",
    "            'c': 42\n",
    "        }\n",
    "    }\n",
    "}\n",
    "\n",
    "def perhaps(d, func):\n",
    "    if d is not None:\n",
    "        return func(d)\n",
    "    else:\n",
    "        return None\n",
    "\n",
    "print(perhaps(perhaps(data, lambda d: d.get('a')), lambda d: d.get('b')))\n",
    "\n",
    "class Perhaps:\n",
    "    def __init__(self, value):\n",
    "        self._value = value\n",
    "    \n",
    "    def __rshift__(self, other):\n",
    "        if self._value is not None:\n",
    "            return Perhaps(other(self._value))\n",
    "        else:\n",
    "            return self\n",
    "    \n",
    "Perhaps(data) >> (lambda d: d.get('a')) \\\n",
    "              >> (lambda d: d.get('b')) \\\n",
    "              >> (lambda d: d.get('c'))\n",
    "\n",
    "_._value"
   ]
  },
  {
   "cell_type": "code",
   "execution_count": null,
   "metadata": {},
   "outputs": [],
   "source": [
    "def AND(x):\n",
    "    def f(y):\n",
    "        return x(y)(x)\n",
    "    return f\n",
    "\n",
    "def AND(x):\n",
    "    return lambda y: x(y)(x)\n",
    "\n",
    "AND = lambda x: lambda y: x(y)(x)\n",
    "AND = λx:λy:x(y)(x)\n",
    "AND = λxy:x(y)(x)\n",
    "AND = λxy:xyx\n",
    "AND = λxy.xyx\n",
    "\n",
    "# __alpha conversion: rename unique arguments__\n",
    "AND = λxy.xyx = λzy.zyz\n",
    "\n",
    "# __beta reduction: substitute arguments__\n",
    "(λxy.xyx)(ab) => λy.(ab)y(ab)\n",
    "\n",
    "# __no name clash (scope issue)___\n",
    "(λxy.xyx)(xy)\n",
    "def AND(x):\n",
    "    def f(y):\n",
    "        return x(y)(x)\n",
    "    return f\n",
    "\n",
    "def AND(x):\n",
    "    return lambda y: x(y)(x)\n",
    "\n",
    "AND = lambda x: lambda y: x(y)(x)\n",
    "AND = λx:λy:x(y)(x)\n",
    "AND = λxy:x(y)(x)\n",
    "AND = λxy:xyx\n",
    "AND = λxy.xyx\n",
    "\n",
    "# __alpha conversion: rename unique arguments__\n",
    "AND = λxy.xyx = λzy.zyz\n",
    "\n",
    "# __beta conversion: substitute arguments__\n",
    "(λxy.xyx)(ab) => λy.(ab)y(ab)\n",
    "\n",
    "# __no name clash (scope issue)___\n",
    "(λxy.xyx)(xy)\n",
    "(λxy.xyx)(y)"
   ]
  },
  {
   "cell_type": "code",
   "execution_count": 9,
   "metadata": {},
   "outputs": [
    {
     "name": "stdout",
     "output_type": "stream",
     "text": [
      "2\n",
      "3\n",
      "2\n",
      "3\n"
     ]
    }
   ],
   "source": [
    "# Buiding a Data Structure\n",
    "\n",
    "def cons(a, b):\n",
    "    def select(m):\n",
    "        if m == 0:\n",
    "            return a\n",
    "        elif m == 1:\n",
    "            return b\n",
    "    return select\n",
    "\n",
    "p = cons(2, 3)\n",
    "print(p(0))\n",
    "\n",
    "# Switch\n",
    "CONS = lambda a: lambda b: (lambda s: s(a)(b))\n",
    "p = CONS(2)(3)\n",
    "print(p(FALSE))\n",
    "\n",
    "CAR = lambda p: p(TRUE)\n",
    "CDR = lambda p: p(FALSE)\n",
    "\n",
    "print(CAR(p))\n",
    "print(CDR(p))"
   ]
  },
  {
   "cell_type": "code",
   "execution_count": null,
   "metadata": {},
   "outputs": [],
   "source": []
  }
 ],
 "metadata": {
  "interpreter": {
   "hash": "b0fa6594d8f4cbf19f97940f81e996739fb7646882a419484c72d19e05852a7e"
  },
  "kernelspec": {
   "display_name": "Python 3 (ipykernel)",
   "language": "python",
   "name": "python3"
  },
  "language_info": {
   "codemirror_mode": {
    "name": "ipython",
    "version": 3
   },
   "file_extension": ".py",
   "mimetype": "text/x-python",
   "name": "python",
   "nbconvert_exporter": "python",
   "pygments_lexer": "ipython3",
   "version": "3.9.12"
  }
 },
 "nbformat": 4,
 "nbformat_minor": 2
}
