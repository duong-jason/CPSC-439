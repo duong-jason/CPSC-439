{
 "cells": [
  {
   "cell_type": "code",
   "execution_count": 3,
   "id": "d34c1149",
   "metadata": {},
   "outputs": [
    {
     "ename": "Exception",
     "evalue": "File `'Utilities.ipynb.py'` not found.",
     "output_type": "error",
     "traceback": [
      "\u001b[0;31m---------------------------------------------------------------------------\u001b[0m",
      "\u001b[0;31mOSError\u001b[0m                                   Traceback (most recent call last)",
      "File \u001b[0;32m~/.local/lib/python3.8/site-packages/IPython/core/magics/execution.py:696\u001b[0m, in \u001b[0;36mExecutionMagics.run\u001b[0;34m(self, parameter_s, runner, file_finder)\u001b[0m\n\u001b[1;32m    695\u001b[0m     fpath \u001b[38;5;241m=\u001b[39m arg_lst[\u001b[38;5;241m0\u001b[39m]\n\u001b[0;32m--> 696\u001b[0m     filename \u001b[38;5;241m=\u001b[39m \u001b[43mfile_finder\u001b[49m\u001b[43m(\u001b[49m\u001b[43mfpath\u001b[49m\u001b[43m)\u001b[49m\n\u001b[1;32m    697\u001b[0m \u001b[38;5;28;01mexcept\u001b[39;00m \u001b[38;5;167;01mIndexError\u001b[39;00m \u001b[38;5;28;01mas\u001b[39;00m e:\n",
      "File \u001b[0;32m~/.local/lib/python3.8/site-packages/IPython/utils/path.py:91\u001b[0m, in \u001b[0;36mget_py_filename\u001b[0;34m(name)\u001b[0m\n\u001b[1;32m     90\u001b[0m \u001b[38;5;28;01melse\u001b[39;00m:\n\u001b[0;32m---> 91\u001b[0m     \u001b[38;5;28;01mraise\u001b[39;00m \u001b[38;5;167;01mIOError\u001b[39;00m(\u001b[38;5;124m'\u001b[39m\u001b[38;5;124mFile `\u001b[39m\u001b[38;5;132;01m%r\u001b[39;00m\u001b[38;5;124m` not found.\u001b[39m\u001b[38;5;124m'\u001b[39m \u001b[38;5;241m%\u001b[39m name)\n",
      "\u001b[0;31mOSError\u001b[0m: File `'Utilities.ipynb.py'` not found.",
      "\nThe above exception was the direct cause of the following exception:\n",
      "\u001b[0;31mException\u001b[0m                                 Traceback (most recent call last)",
      "Input \u001b[0;32mIn [3]\u001b[0m, in \u001b[0;36m<cell line: 3>\u001b[0;34m()\u001b[0m\n\u001b[1;32m      1\u001b[0m \u001b[38;5;28;01mfrom\u001b[39;00m \u001b[38;5;21;01mmath\u001b[39;00m \u001b[38;5;28;01mimport\u001b[39;00m sqrt\n\u001b[0;32m----> 3\u001b[0m \u001b[43mget_ipython\u001b[49m\u001b[43m(\u001b[49m\u001b[43m)\u001b[49m\u001b[38;5;241;43m.\u001b[39;49m\u001b[43mrun_line_magic\u001b[49m\u001b[43m(\u001b[49m\u001b[38;5;124;43m'\u001b[39;49m\u001b[38;5;124;43mrun\u001b[39;49m\u001b[38;5;124;43m'\u001b[39;49m\u001b[43m,\u001b[49m\u001b[43m \u001b[49m\u001b[38;5;124;43m'\u001b[39;49m\u001b[38;5;124;43m\"\u001b[39;49m\u001b[38;5;124;43mUtilities.ipynb\u001b[39;49m\u001b[38;5;124;43m\"\u001b[39;49m\u001b[38;5;124;43m'\u001b[39;49m\u001b[43m)\u001b[49m\n\u001b[1;32m      4\u001b[0m \u001b[38;5;28;01mfrom\u001b[39;00m \u001b[38;5;21;01mIPython\u001b[39;00m\u001b[38;5;21;01m.\u001b[39;00m\u001b[38;5;21;01mdisplay\u001b[39;00m \u001b[38;5;28;01mimport\u001b[39;00m clear_output\n\u001b[1;32m      5\u001b[0m clear_output()\n",
      "File \u001b[0;32m~/.local/lib/python3.8/site-packages/IPython/core/interactiveshell.py:2285\u001b[0m, in \u001b[0;36mInteractiveShell.run_line_magic\u001b[0;34m(self, magic_name, line, _stack_depth)\u001b[0m\n\u001b[1;32m   2283\u001b[0m     kwargs[\u001b[38;5;124m'\u001b[39m\u001b[38;5;124mlocal_ns\u001b[39m\u001b[38;5;124m'\u001b[39m] \u001b[38;5;241m=\u001b[39m \u001b[38;5;28mself\u001b[39m\u001b[38;5;241m.\u001b[39mget_local_scope(stack_depth)\n\u001b[1;32m   2284\u001b[0m \u001b[38;5;28;01mwith\u001b[39;00m \u001b[38;5;28mself\u001b[39m\u001b[38;5;241m.\u001b[39mbuiltin_trap:\n\u001b[0;32m-> 2285\u001b[0m     result \u001b[38;5;241m=\u001b[39m \u001b[43mfn\u001b[49m\u001b[43m(\u001b[49m\u001b[38;5;241;43m*\u001b[39;49m\u001b[43margs\u001b[49m\u001b[43m,\u001b[49m\u001b[43m \u001b[49m\u001b[38;5;241;43m*\u001b[39;49m\u001b[38;5;241;43m*\u001b[39;49m\u001b[43mkwargs\u001b[49m\u001b[43m)\u001b[49m\n\u001b[1;32m   2286\u001b[0m \u001b[38;5;28;01mreturn\u001b[39;00m result\n",
      "File \u001b[0;32m~/.local/lib/python3.8/site-packages/IPython/core/magics/execution.py:707\u001b[0m, in \u001b[0;36mExecutionMagics.run\u001b[0;34m(self, parameter_s, runner, file_finder)\u001b[0m\n\u001b[1;32m    705\u001b[0m     \u001b[38;5;28;01mif\u001b[39;00m os\u001b[38;5;241m.\u001b[39mname \u001b[38;5;241m==\u001b[39m \u001b[38;5;124m'\u001b[39m\u001b[38;5;124mnt\u001b[39m\u001b[38;5;124m'\u001b[39m \u001b[38;5;129;01mand\u001b[39;00m re\u001b[38;5;241m.\u001b[39mmatch(\u001b[38;5;124mr\u001b[39m\u001b[38;5;124m\"\u001b[39m\u001b[38;5;124m^\u001b[39m\u001b[38;5;124m'\u001b[39m\u001b[38;5;124m.*\u001b[39m\u001b[38;5;124m'\u001b[39m\u001b[38;5;124m$\u001b[39m\u001b[38;5;124m\"\u001b[39m,fpath):\n\u001b[1;32m    706\u001b[0m         warn(\u001b[38;5;124m'\u001b[39m\u001b[38;5;124mFor Windows, use double quotes to wrap a filename: \u001b[39m\u001b[38;5;132;01m%r\u001b[39;00m\u001b[38;5;124mun \u001b[39m\u001b[38;5;124m\"\u001b[39m\u001b[38;5;124mmypath\u001b[39m\u001b[38;5;130;01m\\\\\u001b[39;00m\u001b[38;5;124mmyfile.py\u001b[39m\u001b[38;5;124m\"\u001b[39m\u001b[38;5;124m'\u001b[39m)\n\u001b[0;32m--> 707\u001b[0m     \u001b[38;5;28;01mraise\u001b[39;00m \u001b[38;5;167;01mException\u001b[39;00m(msg) \u001b[38;5;28;01mfrom\u001b[39;00m \u001b[38;5;21;01me\u001b[39;00m\n\u001b[1;32m    708\u001b[0m \u001b[38;5;28;01mexcept\u001b[39;00m \u001b[38;5;167;01mTypeError\u001b[39;00m:\n\u001b[1;32m    709\u001b[0m     \u001b[38;5;28;01mif\u001b[39;00m fpath \u001b[38;5;129;01min\u001b[39;00m sys\u001b[38;5;241m.\u001b[39mmeta_path:\n",
      "\u001b[0;31mException\u001b[0m: File `'Utilities.ipynb.py'` not found."
     ]
    }
   ],
   "source": [
    "from math import sqrt"
   ]
  },
  {
   "cell_type": "code",
   "execution_count": 4,
   "id": "ba30597c",
   "metadata": {},
   "outputs": [
    {
     "name": "stdout",
     "output_type": "stream",
     "text": [
      "1.7898261225515952\n"
     ]
    }
   ],
   "source": [
    "def solve_eq(b, c):\n",
    "    v1 = b\n",
    "    v2 = v1 * v1\n",
    "    v3 = v2 + c\n",
    "    v4 = sqrt(v3)\n",
    "    return v4 - v1\n",
    "\n",
    "print(solve_eq(10, 39))"
   ]
  },
  {
   "cell_type": "code",
   "execution_count": 5,
   "id": "4b051e8b",
   "metadata": {},
   "outputs": [],
   "source": [
    "def AND(a, b): return a * b\n",
    "def OR(a, b):  return 1 if a + b else 0\n",
    "def NOT(a):    return 1 - a"
   ]
  },
  {
   "cell_type": "code",
   "execution_count": 6,
   "id": "5c98d182",
   "metadata": {},
   "outputs": [
    {
     "name": "stdout",
     "output_type": "stream",
     "text": [
      "['XOR(0, 0) = 0', 'XOR(0, 1) = 1', 'XOR(1, 0) = 1', 'XOR(1, 1) = 0']\n",
      "['XOR3(0, 0, 0) = 0', 'XOR3(0, 0, 1) = 1', 'XOR3(0, 1, 0) = 1', 'XOR3(0, 1, 1) = 0', 'XOR3(1, 0, 0) = 1', 'XOR3(1, 0, 1) = 0', 'XOR3(1, 1, 0) = 0', 'XOR3(1, 1, 1) = 1']\n"
     ]
    }
   ],
   "source": [
    "def XOR(a, b):\n",
    "    \"\"\"proof by python\"\"\"\n",
    "    w2 = NOT(AND(a, b)) # a = b = 1\n",
    "    w3 = OR(a, b)       # a = b = 0\n",
    "    return AND(w2, w3)\n",
    "\n",
    "def XOR3(a, b, c):\n",
    "    return XOR(XOR(a, b), c)\n",
    "\n",
    "print([f\"XOR({a}, {b}) = {XOR(a, b)}\" for a in [0, 1] for b in [0, 1]])\n",
    "print([\"XOR3(\" + str(a) + \", \" + str(b) + \", \" + str(c) + \") = \" + str(XOR3(a, b, c)) \\\n",
    "       for a in [0, 1] for b in [0, 1] for c in [0,1]])"
   ]
  },
  {
   "cell_type": "code",
   "execution_count": 7,
   "id": "0bb6a003",
   "metadata": {},
   "outputs": [],
   "source": [
    "def NAND(a, b):\n",
    "    return NOT(AND(NOT(AND(a, b)), NOT(AND(a, b)))) or \\\n",
    "           NOT(AND(NOT(AND(a, a)), NOT(AND(b, b)))) or \\\n",
    "           NOT(AND(NOT(a), NOT(b)))                 or \\\n",
    "           NOT(AND(a, a))"
   ]
  },
  {
   "cell_type": "code",
   "execution_count": 8,
   "id": "56ee06ce",
   "metadata": {},
   "outputs": [
    {
     "name": "stdout",
     "output_type": "stream",
     "text": [
      "ALLEQ(1, 1, 1, 1) = true\n"
     ]
    }
   ],
   "source": [
    "def ALLEQ(a, b, c, d):\n",
    "    return NOT(AND(NOT(AND( a, a )), NOT(AND( b, b )))) or \\\n",
    "           NOT(AND(NOT(a), NOT(b)))                     or \\\n",
    "           NOT(AND(a, a))\n",
    "\n",
    "def ALLEQ(a, b, c, d):\n",
    "    reg = AND(AND(AND(a, b), c), d)\n",
    "    return OR(reg, NOT(reg))\n",
    "\n",
    "print(\"ALLEQ(1, 1, 1, 1) =\", \"true\" if ALLEQ(1, 1, 1, 1) else \"false\")"
   ]
  },
  {
   "cell_type": "code",
   "execution_count": 9,
   "id": "54d175c8",
   "metadata": {},
   "outputs": [
    {
     "name": "stdout",
     "output_type": "stream",
     "text": [
      "MAJ(0, 1, 1) =  1\n"
     ]
    }
   ],
   "source": [
    "def MAJ(X, Y, Z):\n",
    "    firstpair  = AND(X, Y)\n",
    "    secondpair = AND(Y, Z)\n",
    "    thirdpair  = AND(X, Z)\n",
    "    temp       = OR(secondpair, thirdpair)\n",
    "    return OR(firstpair, temp)\n",
    "\n",
    "print(\"MAJ(0, 1, 1) = \", MAJ(0, 1, 1))"
   ]
  },
  {
   "cell_type": "code",
   "execution_count": 10,
   "id": "4381cdf0",
   "metadata": {},
   "outputs": [],
   "source": [
    "def CMP(X: tuple):\n",
    "    \"\"\"\n",
    "    outputs true if (a, b) > (c, d) iff\n",
    "    a > c OR (a >= c AND b > d)\n",
    "    \"\"\"\n",
    "    # check if c1 > c2\n",
    "    t1 = NOT(X[2])\n",
    "    t2 = AND(X[0], t1)\n",
    "    # check if c1 >= c2\n",
    "    t3 = OR(X[0], t1)\n",
    "    # check if b > d\n",
    "    t4 = NOT(X[3])\n",
    "    t5 = AND(X[1], t4)\n",
    "    # compute a >= c AND b > d\n",
    "    t6 = AND(t5, t3)\n",
    "\n",
    "    Y[0] = OR(t2, t6)"
   ]
  },
  {
   "cell_type": "code",
   "execution_count": 4,
   "id": "80eb3de6",
   "metadata": {},
   "outputs": [],
   "source": [
    "def EVAL(code, X):\n",
    "    n,m = numinout(code) # helper function - get number of inputs and outputs\n",
    "    \n",
    "    vtable = { f\"X[{i}]\":int(X[i]) for i in range(n)}\n",
    "    \n",
    "    for line in code.split(\"\\n\"):\n",
    "        if not line: continue\n",
    "        foo, op, bar, blah = parseline(line, 2) \n",
    "        # helper function - split \"foo = OP(,blah)\" to list [\"foo\",\"OP\",\"bar\",\"blah\"]\n",
    "        # 2 is num of arguments to expect: blah is empty if it's missing\n",
    "        if op == \"NOT\": vtable[foo] = NOT(vtable[bar])\n",
    "        if op == \"AND\": vtable[foo] = AND(vtable[bar], vtable[blah])\n",
    "        if op == \"OR\" : vtable[foo] = OR(vtable[bar], vtable[blah])\n",
    "    \n",
    "    return [vtable[f\"Y[{j}]\"] for j in range(m)]"
   ]
  },
  {
   "cell_type": "code",
   "execution_count": 7,
   "id": "14d5be14",
   "metadata": {},
   "outputs": [],
   "source": [
    "def AON2NAND(code):\n",
    "    \"\"\"Translate an AON-CIRC program to an equivalent NAND-CIRC program\"\"\"\n",
    "    output = \"\"\n",
    "    counter = 0\n",
    "    for line in code.split(\"\\n\"):\n",
    "        if not line: continue\n",
    "        foo, op, bar, blah = parseline(line, 2) \n",
    "        if op == \"NOT\":\n",
    "            output += f\"{foo} = NAND({bar}, {bar})\\n\"\n",
    "        if op == \"AND\": \n",
    "            output += f\"t{counter} = NAND({bar}, {blah})\\n\"\n",
    "            output += f\"{foo} = NAND(t{counter}, t{counter})\\n\"\n",
    "            counter +=1\n",
    "        if op == \"OR\":\n",
    "            output += f\"t{counter} = NAND({bar}, {bar})\\n\"\n",
    "            output += f\"t{counter+1} = NAND({blah}, {blah})\\n\"\n",
    "            output += f\"{foo} = NAND(t{counter}, t{counter+1})\\n\"\n",
    "            counter += 2\n",
    "    return output"
   ]
  },
  {
   "cell_type": "code",
   "execution_count": null,
   "id": "eea92e47",
   "metadata": {},
   "outputs": [],
   "source": []
  }
 ],
 "metadata": {
  "kernelspec": {
   "display_name": "Python 3 (ipykernel)",
   "language": "python",
   "name": "python3"
  },
  "language_info": {
   "codemirror_mode": {
    "name": "ipython",
    "version": 3
   },
   "file_extension": ".py",
   "mimetype": "text/x-python",
   "name": "python",
   "nbconvert_exporter": "python",
   "pygments_lexer": "ipython3",
   "version": "3.8.10"
  }
 },
 "nbformat": 4,
 "nbformat_minor": 5
}
