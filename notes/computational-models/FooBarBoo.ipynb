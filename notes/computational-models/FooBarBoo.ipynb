{
 "cells": [
  {
   "cell_type": "code",
   "execution_count": 3,
   "id": "d34c1149",
   "metadata": {},
   "outputs": [],
   "source": [
    "from math import sqrt"
   ]
  },
  {
   "cell_type": "code",
   "execution_count": 4,
   "id": "ba30597c",
   "metadata": {},
   "outputs": [
    {
     "name": "stdout",
     "output_type": "stream",
     "text": [
      "1.7898261225515952\n"
     ]
    }
   ],
   "source": [
    "def solve_eq(b, c):\n",
    "    v1 = b\n",
    "    v2 = v1 * v1\n",
    "    v3 = v2 + c\n",
    "    v4 = sqrt(v3)\n",
    "    return v4 - v1\n",
    "\n",
    "print(solve_eq(10, 39))"
   ]
  },
  {
   "cell_type": "code",
   "execution_count": 5,
   "id": "4b051e8b",
   "metadata": {},
   "outputs": [],
   "source": [
    "def AND(a, b): return a * b\n",
    "def OR(a, b):  return 1 if a + b else 0\n",
    "def NOT(a):    return 1 - a"
   ]
  },
  {
   "cell_type": "code",
   "execution_count": 6,
   "id": "5c98d182",
   "metadata": {},
   "outputs": [
    {
     "name": "stdout",
     "output_type": "stream",
     "text": [
      "['XOR(0, 0) = 0', 'XOR(0, 1) = 1', 'XOR(1, 0) = 1', 'XOR(1, 1) = 0']\n",
      "['XOR3(0, 0, 0) = 0', 'XOR3(0, 0, 1) = 1', 'XOR3(0, 1, 0) = 1', 'XOR3(0, 1, 1) = 0', 'XOR3(1, 0, 0) = 1', 'XOR3(1, 0, 1) = 0', 'XOR3(1, 1, 0) = 0', 'XOR3(1, 1, 1) = 1']\n"
     ]
    }
   ],
   "source": [
    "def XOR(a, b):\n",
    "    \"\"\"proof by python\"\"\"\n",
    "    w2 = NOT(AND(a, b)) # a = b = 1\n",
    "    w3 = OR(a, b)       # a = b = 0\n",
    "    return AND(w2, w3)\n",
    "\n",
    "def XOR3(a, b, c):\n",
    "    return XOR(XOR(a, b), c)\n",
    "\n",
    "print([f\"XOR({a}, {b}) = {XOR(a, b)}\" for a in [0, 1] for b in [0, 1]])\n",
    "print([\"XOR3(\" + str(a) + \", \" + str(b) + \", \" + str(c) + \") = \" + str(XOR3(a, b, c)) \\\n",
    "       for a in [0, 1] for b in [0, 1] for c in [0,1]])"
   ]
  },
  {
   "cell_type": "code",
   "execution_count": 7,
   "id": "0bb6a003",
   "metadata": {},
   "outputs": [],
   "source": [
    "def NAND(a, b):\n",
    "    return NOT(AND(NOT(AND(a, b)), NOT(AND(a, b)))) or \\\n",
    "           NOT(AND(NOT(AND(a, a)), NOT(AND(b, b)))) or \\\n",
    "           NOT(AND(NOT(a), NOT(b)))                 or \\\n",
    "           NOT(AND(a, a))"
   ]
  },
  {
   "cell_type": "code",
   "execution_count": 8,
   "id": "56ee06ce",
   "metadata": {},
   "outputs": [
    {
     "name": "stdout",
     "output_type": "stream",
     "text": [
      "ALLEQ(1, 1, 1, 1) = true\n"
     ]
    }
   ],
   "source": [
    "def ALLEQ(a, b, c, d):\n",
    "    return NOT(AND(NOT(AND( a, a )), NOT(AND( b, b )))) or \\\n",
    "           NOT(AND(NOT(a), NOT(b)))                     or \\\n",
    "           NOT(AND(a, a))\n",
    "\n",
    "def ALLEQ(a, b, c, d):\n",
    "    reg = AND(AND(AND(a, b), c), d)\n",
    "    return OR(reg, NOT(reg))\n",
    "\n",
    "print(\"ALLEQ(1, 1, 1, 1) =\", \"true\" if ALLEQ(1, 1, 1, 1) else \"false\")"
   ]
  },
  {
   "cell_type": "code",
   "execution_count": 9,
   "id": "54d175c8",
   "metadata": {},
   "outputs": [
    {
     "name": "stdout",
     "output_type": "stream",
     "text": [
      "MAJ(0, 1, 1) =  1\n"
     ]
    }
   ],
   "source": [
    "def MAJ(X, Y, Z):\n",
    "    firstpair  = AND(X, Y)\n",
    "    secondpair = AND(Y, Z)\n",
    "    thirdpair  = AND(X, Z)\n",
    "    temp       = OR(secondpair, thirdpair)\n",
    "    return OR(firstpair, temp)\n",
    "\n",
    "print(\"MAJ(0, 1, 1) = \", MAJ(0, 1, 1))"
   ]
  },
  {
   "cell_type": "code",
   "execution_count": 10,
   "id": "4381cdf0",
   "metadata": {},
   "outputs": [],
   "source": [
    "def CMP(X: tuple):\n",
    "    \"\"\"\n",
    "    outputs true if (a, b) > (c, d) iff\n",
    "    a > c OR (a >= c AND b > d)\n",
    "    \"\"\"\n",
    "    # check if c1 > c2\n",
    "    t1 = NOT(X[2])\n",
    "    t2 = AND(X[0], t1)\n",
    "    # check if c1 >= c2\n",
    "    t3 = OR(X[0], t1)\n",
    "    # check if b > d\n",
    "    t4 = NOT(X[3])\n",
    "    t5 = AND(X[1], t4)\n",
    "    # compute a >= c AND b > d\n",
    "    t6 = AND(t5, t3)\n",
    "\n",
    "    Y[0] = OR(t2, t6)"
   ]
  },
  {
   "cell_type": "code",
   "execution_count": null,
   "id": "80eb3de6",
   "metadata": {},
   "outputs": [],
   "source": [
    "def BOOLEAN_CIRCUIT(X: tuple):\n",
    "    layer: list  # list of the minimal layering\n",
    "    output: list # list of outputs\n",
    "    gate = { \"^\": AND, \"v\": OR, \"~\": NOT } # list of logic gates\n",
    "\n",
    "    for i, v in enumerate(layer):\n",
    "        if v in X: # v is an input vertex\n",
    "            v = X[i]\n",
    "        elif v in gate: # v is a gate\n",
    "            match gate[v]:\n",
    "                case \"^\":\n",
    "                    v = AND(X[i-1], X[i])\n",
    "                case \"v\":\n",
    "                    v = OR(X[i-1], X[i])\n",
    "                case \"~\":\n",
    "                    v = NOT(X[i])\n",
    "\n",
    "            if v in output: # v is an output C(v)\n",
    "                return v"
   ]
  }
 ],
 "metadata": {
  "kernelspec": {
   "display_name": "Python 3 (ipykernel)",
   "language": "python",
   "name": "python3"
  },
  "language_info": {
   "codemirror_mode": {
    "name": "ipython",
    "version": 3
   },
   "file_extension": ".py",
   "mimetype": "text/x-python",
   "name": "python",
   "nbconvert_exporter": "python",
   "pygments_lexer": "ipython3",
   "version": "3.8.10"
  }
 },
 "nbformat": 4,
 "nbformat_minor": 5
}
