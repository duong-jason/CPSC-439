{
 "cells": [
  {
   "cell_type": "code",
   "execution_count": 19,
   "id": "b5ce4b35",
   "metadata": {},
   "outputs": [
    {
     "data": {
      "text/plain": [
       "1"
      ]
     },
     "execution_count": 19,
     "metadata": {},
     "output_type": "execute_result"
    }
   ],
   "source": [
    "# C = {q=qo, qe}\n",
    "# T = [[q], [1-q]]\n",
    "# S = {1}\n",
    "\n",
    "def XOR(X):\n",
    "    result = 0\n",
    "    for i in range(len(X)):\n",
    "        result = (result + X[i]) % 2\n",
    "\n",
    "    return result\n",
    "\n",
    "XOR([0, 1, 0])"
   ]
  },
  {
   "cell_type": "code",
   "execution_count": 21,
   "id": "b3945f92",
   "metadata": {},
   "outputs": [],
   "source": [
    "def F(X):\n",
    "    '''Return 1 iff X is a concatenation of zero/more copies of [0, 1, 0]'''\n",
    "    if len(X) % 3 != 0:\n",
    "        return False\n",
    "    ultimate = 0\n",
    "    penultimate = 1\n",
    "    antepenultimate = 0\n",
    "    for idx, b in enumerate(X):\n",
    "        antepenultimate = penultimate\n",
    "        penultimate = ultimate\n",
    "        ultimate = b\n",
    "        if idx % 3 == 2 and ((antepenultimate, penultimate, ultimate) != (0,1,0)):\n",
    "            return False\n",
    "    return True"
   ]
  },
  {
   "cell_type": "code",
   "execution_count": 65,
   "id": "b831ceae",
   "metadata": {},
   "outputs": [
    {
     "name": "stdout",
     "output_type": "stream",
     "text": [
      "00000100010001000101011010001110010011001111011111\n",
      "q0 -> q1 -> q1 -> q2 -> q0 -> q0 -> q1 -> q1 -> q2 -> q3 -> q3 -> q3 -> q3 -> q3 -> ACCEPT\n"
     ]
    }
   ],
   "source": [
    "class DFA:\n",
    "    def __init__(self):\n",
    "        self._states = ['q' + str(i) for i in range(4)]\n",
    "        self._terminal = [self._states[-1]]\n",
    "        self._transition = dict([\n",
    "            (('q0', 0), 'q1'), (('q0', 1), 'q0'),\n",
    "            (('q1', 0), 'q1'), (('q1', 1), 'q2'),\n",
    "            (('q2', 0), 'q3'), (('q2', 1), 'q0'),\n",
    "            (('q3', 0), 'q3'), (('q3', 1), 'q3'),\n",
    "        ])\n",
    "        \n",
    "        self._current = self._states[0]\n",
    "    \n",
    "    def encode(self):\n",
    "        convert = {'0': '00', \\\n",
    "                   '1': '01', \\\n",
    "                   '2': '10', \\\n",
    "                   '3': '11'}\n",
    "            \n",
    "        binary = ''\n",
    "        for (a, b), c in self._transition.items():\n",
    "            binary += convert[a[-1]] + convert[str(b)] + convert[c[-1]]\n",
    "        \n",
    "        for s in self._terminal:\n",
    "            binary += convert[s[-1]]\n",
    "            \n",
    "        return binary\n",
    "   \n",
    "    def compute(self, binary):\n",
    "        input = [int(b) for b in str(binary)]\n",
    "\n",
    "        for symbol in input:\n",
    "            print(self._current, '-> ', end='')\n",
    "            self._current = self._transition[(self._current, symbol)]\n",
    "        \n",
    "        return 'ACCEPT' if self._current in self._terminal else 'REJECT'\n",
    "    \n",
    "\n",
    "M = DFA()\n",
    "print(M.encode()) # |T| = 24 for |t| = 2, |S| = 1\n",
    "print(M.compute('00111001010010'))"
   ]
  },
  {
   "cell_type": "code",
   "execution_count": null,
   "id": "1c1e55e8",
   "metadata": {},
   "outputs": [],
   "source": []
  }
 ],
 "metadata": {
  "kernelspec": {
   "display_name": "Python 3 (ipykernel)",
   "language": "python",
   "name": "python3"
  },
  "language_info": {
   "codemirror_mode": {
    "name": "ipython",
    "version": 3
   },
   "file_extension": ".py",
   "mimetype": "text/x-python",
   "name": "python",
   "nbconvert_exporter": "python",
   "pygments_lexer": "ipython3",
   "version": "3.8.10"
  }
 },
 "nbformat": 4,
 "nbformat_minor": 5
}
