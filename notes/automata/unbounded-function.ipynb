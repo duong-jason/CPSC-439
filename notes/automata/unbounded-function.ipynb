{
 "cells": [
  {
   "cell_type": "code",
   "execution_count": null,
   "id": "b5ce4b35",
   "metadata": {},
   "outputs": [],
   "source": [
    "# C = {q=qo, qe}\n",
    "# T = [[q], [1-q]]\n",
    "# S = {1}\n",
    "\n",
    "def XOR(X):\n",
    "    result = 0\n",
    "    for i in range(len(X)):\n",
    "        result = (result + X[i]) % 2\n",
    "\n",
    "    return result\n",
    "\n",
    "XOR([0, 1, 0])"
   ]
  },
  {
   "cell_type": "code",
   "execution_count": null,
   "id": "b3945f92",
   "metadata": {},
   "outputs": [],
   "source": [
    "def F(X):\n",
    "    '''Return 1 iff X is a concatenation of zero/more copies of [0, 1, 0]'''\n",
    "    if len(X) % 3 != 0:\n",
    "        return False\n",
    "    ultimate = 0\n",
    "    penultimate = 1\n",
    "    antepenultimate = 0\n",
    "    for idx, b in enumerate(X):\n",
    "        antepenultimate = penultimate\n",
    "        penultimate = ultimate\n",
    "        ultimate = b\n",
    "        if idx % 3 == 2 and ((antepenultimate, penultimate, ultimate) != (0,1,0)):\n",
    "            return False\n",
    "    return True"
   ]
  },
  {
   "cell_type": "code",
   "execution_count": 16,
   "id": "1c1e55e8",
   "metadata": {},
   "outputs": [
    {
     "name": "stdout",
     "output_type": "stream",
     "text": [
      "00000100010001000101010101001101010011001111011111\n",
      "[00_00_01_00_01_00_01_00_01_01_01_01_01_00_11_01_01_00_11_00_11_11_01_11]_11"
     ]
    }
   ],
   "source": [
    "from collections import namedtuple\n",
    "\n",
    "# Computational Model -> DFA\n",
    "DFA = namedtuple('DFA', ['T', 'S'])\n",
    "\n",
    "# States\n",
    "q0, q1, q2, q3 = [0, 1, 2, 3]\n",
    "\n",
    "# Transition Function\n",
    "delta = dict([\n",
    "    ((q0, 0), q1), ((q0, 1), q0),\n",
    "    ((q1, 0), q1), ((q1, 1), q2),\n",
    "    ((q2, 0), q3), ((q2, 1), q0),\n",
    "    ((q3, 0), q3), ((q3, 1), q3),\n",
    "])\n",
    "\n",
    "def binary(n):\n",
    "    '''converts natural numbers to binary strings'''\n",
    "    result = ''\n",
    "    while n > 0:\n",
    "        result += str(n % 2)\n",
    "        n //= 2\n",
    "    return result.zfill(2)\n",
    "\n",
    "def encode(M):\n",
    "    '''converts DFA model to binary representation'''\n",
    "    code = ''\n",
    "    for (current, sigma), successor, in M.T.items():\n",
    "        code += binary(current) + \\\n",
    "                binary(sigma)   + \\\n",
    "                binary(successor)\n",
    "        \n",
    "    for final in M.S: code += binary(final)\n",
    "    return code\n",
    "\n",
    "# Representation\n",
    "DFA.__repr__ = encode\n",
    "\n",
    "# Instance\n",
    "M = DFA(delta, [q3])\n",
    "\n",
    "# Outputs the Binary Representation\n",
    "print(M)\n",
    "\n",
    "# Test\n",
    "C = 4\n",
    "print('[', end='')\n",
    "for d, b in enumerate(M.__repr__()):\n",
    "    if d == 2*2*3*C:\n",
    "        print(']', end='')\n",
    "    if d % 2 == 0 and d != 0:\n",
    "        print('_', end='')\n",
    "    print(b, end='')"
   ]
  },
  {
   "cell_type": "code",
   "execution_count": 41,
   "id": "2c97b046",
   "metadata": {},
   "outputs": [
    {
     "name": "stdout",
     "output_type": "stream",
     "text": [
      "0100101101: q0 -> q1 -> q2 -> q3 -> q3 -> q3 -> q3 -> q3 -> q3 -> q3 -> ACCEPT\n",
      "100100010: q0 -> q0 -> q1 -> q1 -> q2 -> q3 -> q3 -> q3 -> q3 -> ACCEPT\n",
      "0000000: q0 -> q1 -> q1 -> q1 -> q1 -> q1 -> q1 -> REJECT\n",
      "1011011011: q0 -> q0 -> q1 -> q2 -> q0 -> q1 -> q2 -> q0 -> q1 -> q2 -> REJECT\n"
     ]
    }
   ],
   "source": [
    "current = q0\n",
    "input = ['0100101101', '100100010', '0000000', '1011011011']\n",
    "\n",
    "def compute(code):\n",
    "    global current\n",
    "    '''returns true if 010 is a substring of the input'''\n",
    "    X = [int(c) for c in code]\n",
    "\n",
    "    for symbol in X:\n",
    "        print('q'+str(current), '-> ', end='')\n",
    "        current = delta[(current, symbol)]\n",
    "\n",
    "    return 'ACCEPT' if current in M.S else 'REJECT'\n",
    "\n",
    "for word in input:\n",
    "    global current\n",
    "    current = q0\n",
    "    print(word+': ', end='')\n",
    "    print(compute(word))"
   ]
  }
 ],
 "metadata": {
  "kernelspec": {
   "display_name": "Python 3 (ipykernel)",
   "language": "python",
   "name": "python3"
  },
  "language_info": {
   "codemirror_mode": {
    "name": "ipython",
    "version": 3
   },
   "file_extension": ".py",
   "mimetype": "text/x-python",
   "name": "python",
   "nbconvert_exporter": "python",
   "pygments_lexer": "ipython3",
   "version": "3.8.10"
  }
 },
 "nbformat": 4,
 "nbformat_minor": 5
}
