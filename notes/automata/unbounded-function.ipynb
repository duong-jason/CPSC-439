{
 "cells": [
  {
   "cell_type": "code",
   "execution_count": null,
   "id": "b5ce4b35",
   "metadata": {},
   "outputs": [],
   "source": [
    "# C = {q=qo, qe}\n",
    "# T = [[q], [1-q]]\n",
    "# S = {1}\n",
    "\n",
    "def XOR(X):\n",
    "    result = 0\n",
    "    for i in range(len(X)):\n",
    "        result = (result + X[i]) % 2\n",
    "\n",
    "    return result\n",
    "\n",
    "XOR([0, 1, 0])"
   ]
  },
  {
   "cell_type": "code",
   "execution_count": null,
   "id": "b3945f92",
   "metadata": {},
   "outputs": [],
   "source": [
    "def F(X):\n",
    "    '''Return 1 iff X is a concatenation of zero/more copies of [0, 1, 0]'''\n",
    "    if len(X) % 3 != 0:\n",
    "        return False\n",
    "    ultimate = 0\n",
    "    penultimate = 1\n",
    "    antepenultimate = 0\n",
    "    for idx, b in enumerate(X):\n",
    "        antepenultimate = penultimate\n",
    "        penultimate = ultimate\n",
    "        ultimate = b\n",
    "        if idx % 3 == 2 and ((antepenultimate, penultimate, ultimate) != (0,1,0)):\n",
    "            return False\n",
    "    return True"
   ]
  }
 ],
 "metadata": {
  "kernelspec": {
   "display_name": "Python 3 (ipykernel)",
   "language": "python",
   "name": "python3"
  },
  "language_info": {
   "codemirror_mode": {
    "name": "ipython",
    "version": 3
   },
   "file_extension": ".py",
   "mimetype": "text/x-python",
   "name": "python",
   "nbconvert_exporter": "python",
   "pygments_lexer": "ipython3",
   "version": "3.8.10"
  }
 },
 "nbformat": 4,
 "nbformat_minor": 5
}
