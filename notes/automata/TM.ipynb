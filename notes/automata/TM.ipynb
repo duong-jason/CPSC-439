{
 "cells": [
  {
   "cell_type": "markdown",
   "id": "49275936",
   "metadata": {},
   "source": [
    "## CPSC 439 (Spring 2022) Project 1: Turing Machines\n",
    "\n",
    "###  Group Members\n",
    "* Bradley Diep\n",
    "* John Dinh\n",
    "* Jason Duong\n",
    "* Omid Nikjoo\n",
    "\n",
    "### Documentation\n",
    "1. **DFA Representation**\n",
    "    <center>$RE = (1^+01^+01^+0)^*0(1^+0)^*$</center>\n",
    "\n",
    "    * Each transition is represented as a tuple $(a, b, c)$ encoded as $1^a01^b01^c$ for $a, b, c \\in N$\n",
    "    * Each final state, $d$, is represented as $1^d0$ for $d\\in N$\n",
    "    * The $00$ token string deliminates objects T and S\n",
    "    *_Example_: ``10110111001101 = T: (1, 11, 111), S: {11, 1} = T: (q0, q1, q2), S: {q1, q0}``"
   ]
  },
  {
   "cell_type": "code",
   "execution_count": 62,
   "id": "f4740f59",
   "metadata": {},
   "outputs": [],
   "source": [
    "from collections import namedtuple\n",
    "\n",
    "DFA = namedtuple('DFA', ['T', 'S'])\n",
    "\n",
    "ZERO, ONE = '0', '1' # Signals\n",
    "q0, q1, q2, q3 = [*range(4)] # Labeled States"
   ]
  },
  {
   "cell_type": "code",
   "execution_count": 71,
   "id": "702992b7",
   "metadata": {},
   "outputs": [
    {
     "name": "stdout",
     "output_type": "stream",
     "text": [
      "000010011001000010001000010101010001000010\n"
     ]
    }
   ],
   "source": [
    "#def encode(M):\n",
    "#    '''converts DFA model to binary representation'''\n",
    "#    code = ''\n",
    "#\n",
    "#    for (current, symbol), successor in M.T.items():\n",
    "#        code += ''.join(list(map(lambda offset: ONE * (offset + 1) + ZERO,\n",
    "#                                 [current, symbol, successor])))\n",
    "#    \n",
    "#    code += ZERO\n",
    "#    \n",
    "#    for final in M.S:\n",
    "#        code += ''.join(list(map(lambda offset: ONE * (offset + 1) + ZERO, [final])))\n",
    "#\n",
    "#    return code\n",
    "\n",
    "alphabet = r'01*(|)'\n",
    "redict = {re: f'{value:03b}' for value, re in enumerate(list(alphabet))}\n",
    "\n",
    "def encode(re):\n",
    "    return ''.join([redict[e] for e in re])\n",
    "\n",
    "RE = r'0*(10*10*)*10*'\n",
    "print(encode(RE))\n",
    "\n",
    "# DFA Representation\n",
    "# DFA.__repr__ = encode"
   ]
  },
  {
   "cell_type": "code",
   "execution_count": 67,
   "id": "c5df5338",
   "metadata": {},
   "outputs": [
    {
     "ename": "TypeError",
     "evalue": "unhashable type: 'dict'",
     "output_type": "error",
     "traceback": [
      "\u001b[0;31m---------------------------------------------------------------------------\u001b[0m",
      "\u001b[0;31mTypeError\u001b[0m                                 Traceback (most recent call last)",
      "Input \u001b[0;32mIn [67]\u001b[0m, in \u001b[0;36m<cell line: 10>\u001b[0;34m()\u001b[0m\n\u001b[1;32m      4\u001b[0m δ \u001b[38;5;241m=\u001b[39m \u001b[38;5;28mdict\u001b[39m([ \n\u001b[1;32m      5\u001b[0m     ((q0, \u001b[38;5;241m0\u001b[39m), q0), ((q0, \u001b[38;5;241m1\u001b[39m), q1),\n\u001b[1;32m      6\u001b[0m     ((q1, \u001b[38;5;241m0\u001b[39m), q1), ((q1, \u001b[38;5;241m1\u001b[39m), q0),\n\u001b[1;32m      7\u001b[0m ])\n\u001b[1;32m      9\u001b[0m XOR_DFA \u001b[38;5;241m=\u001b[39m DFA(δ, {q1})\n\u001b[0;32m---> 10\u001b[0m \u001b[38;5;28mprint\u001b[39m(\u001b[38;5;124m'\u001b[39m\u001b[38;5;124mXOR_DFA:\u001b[39m\u001b[38;5;124m'\u001b[39m, \u001b[38;5;28;43mrepr\u001b[39;49m\u001b[43m(\u001b[49m\u001b[43mXOR_DFA\u001b[49m\u001b[43m)\u001b[49m)\n",
      "Input \u001b[0;32mIn [65]\u001b[0m, in \u001b[0;36mencode\u001b[0;34m(re)\u001b[0m\n\u001b[1;32m     20\u001b[0m \u001b[38;5;28;01mdef\u001b[39;00m \u001b[38;5;21mencode\u001b[39m(re):\n\u001b[0;32m---> 21\u001b[0m     \u001b[38;5;28;01mreturn\u001b[39;00m \u001b[38;5;124m'\u001b[39m\u001b[38;5;124m'\u001b[39m\u001b[38;5;241m.\u001b[39mjoin([redict[e] \u001b[38;5;28;01mfor\u001b[39;00m e \u001b[38;5;129;01min\u001b[39;00m re])\n",
      "Input \u001b[0;32mIn [65]\u001b[0m, in \u001b[0;36m<listcomp>\u001b[0;34m(.0)\u001b[0m\n\u001b[1;32m     20\u001b[0m \u001b[38;5;28;01mdef\u001b[39;00m \u001b[38;5;21mencode\u001b[39m(re):\n\u001b[0;32m---> 21\u001b[0m     \u001b[38;5;28;01mreturn\u001b[39;00m \u001b[38;5;124m'\u001b[39m\u001b[38;5;124m'\u001b[39m\u001b[38;5;241m.\u001b[39mjoin([\u001b[43mredict\u001b[49m\u001b[43m[\u001b[49m\u001b[43me\u001b[49m\u001b[43m]\u001b[49m \u001b[38;5;28;01mfor\u001b[39;00m e \u001b[38;5;129;01min\u001b[39;00m re])\n",
      "\u001b[0;31mTypeError\u001b[0m: unhashable type: 'dict'"
     ]
    }
   ],
   "source": [
    "'''Figure 6.3'''\n",
    "\n",
    "# Transition Fucnction\n",
    "δ = dict([ \n",
    "    ((q0, 0), q0), ((q0, 1), q1),\n",
    "    ((q1, 0), q1), ((q1, 1), q0),\n",
    "])\n",
    "\n",
    "XOR_DFA = DFA(δ, {q1})\n",
    "print('XOR_DFA:', XOR_DFA)"
   ]
  },
  {
   "cell_type": "code",
   "execution_count": 12,
   "id": "f8e56b48",
   "metadata": {},
   "outputs": [
    {
     "name": "stdout",
     "output_type": "stream",
     "text": [
      "F_DFA: 1010111010110111101101010110110111101110101111011101101101111010111101111011011110010\n"
     ]
    }
   ],
   "source": [
    "'''Figure 6.4'''\n",
    "\n",
    "# Transition Function\n",
    "δ = dict([\n",
    "    ((q0, 0), q2), ((q0, 1), q3),\n",
    "    ((q1, 0), q0), ((q1, 1), q3),\n",
    "    ((q2, 0), q3), ((q2, 1), q1),\n",
    "    ((q3, 0), q3), ((q3, 1), q3),\n",
    "])\n",
    "\n",
    "F_DFA = DFA(δ, {q0})\n",
    "print('F_DFA:', F_DFA)"
   ]
  },
  {
   "cell_type": "code",
   "execution_count": 42,
   "id": "31aedeff",
   "metadata": {},
   "outputs": [
    {
     "name": "stdout",
     "output_type": "stream",
     "text": [
      "▷1011∅\n",
      "START        ▷    EVEN         ▷    R\n",
      "EVEN         1    ODD          1    R\n",
      "ODD          0    ODD          0    R\n",
      "ODD          1    EVEN         1    R\n",
      "EVEN         1    ODD          1    R\n",
      "ODD          ∅    OUTPUT_1     ∅    R\n",
      "OUTPUT_1     ∅    OUTPUT_1     ∅    L\n",
      "OUTPUT_1     ∅    OUTPUT_1     ∅    L\n",
      "OUTPUT_1     1    OUTPUT_1     ∅    L\n",
      "OUTPUT_1     1    OUTPUT_1     ∅    L\n",
      "OUTPUT_1     0    OUTPUT_1     ∅    L\n",
      "OUTPUT_1     1    OUTPUT_1     ∅    L\n",
      "OUTPUT_1     ▷    1_AND_STOP   ▷    R\n",
      "1_AND_STOP   ∅    1_AND_STOP   1    H\n"
     ]
    },
    {
     "data": {
      "text/plain": [
       "'1'"
      ]
     },
     "execution_count": 42,
     "metadata": {},
     "output_type": "execute_result"
    }
   ],
   "source": [
    "class TuringMachine():\n",
    "    '''TM simulating a DFA'''\n",
    "    def __init__(self, model, src):\n",
    "        self._model = model\n",
    "        self._input = src\n",
    "        \n",
    "        self._alphabet = ['0', '1', '▷', '∅', '🔥']\n",
    "        self._states = ['EVEN', 'ODD']\n",
    "        \n",
    "        self._state = 'START'\n",
    "        self._head = 0\n",
    "        self._tape = ['▷'] + [i for i in self._input] + ['∅']\n",
    "\n",
    "\n",
    "    def __str__(self):\n",
    "        return ''.join([x for x in self._tape])\n",
    "    \n",
    "    def debug(self):\n",
    "        print(f'{self._state:12} {self._tape[self._head]:5}', end='')\n",
    "\n",
    "    def transition(self, state, symbol):\n",
    "        move = 'R'\n",
    "        if state == 'START':\n",
    "            state = 'EVEN'\n",
    "        if state in ['EVEN', 'ODD']:\n",
    "            if symbol == '∅':\n",
    "                state = 'OUTPUT_1' if state == 'ODD' else 'OUTPUT_0'\n",
    "            elif symbol == '1':\n",
    "                state = 'EVEN' if state == 'ODD' else 'ODD'\n",
    "        else:\n",
    "            move = 'H'\n",
    "            if state in ['OUTPUT_0', 'OUTPUT_1']:\n",
    "                if symbol != '▷':\n",
    "                    move = 'L'\n",
    "                    symbol = '∅'\n",
    "                else:\n",
    "                    move = 'R'\n",
    "                    state = state[-1] + '_AND_STOP'\n",
    "            elif state[1:] == '_AND_STOP':\n",
    "                move = 'H'\n",
    "                symbol = state[0]\n",
    "            \n",
    "        return state, symbol, move\n",
    "        \n",
    "    def run(self):\n",
    "        while True:\n",
    "            self.debug()\n",
    "            \n",
    "            self._state, self._tape[self._head], move = self.transition(self._state, self._tape[self._head])\n",
    "        \n",
    "            self.debug()\n",
    "            print(move)\n",
    "\n",
    "            if self._head == len(self._tape) - 1:\n",
    "                self._tape += ['∅']\n",
    "            \n",
    "            if move == 'L':\n",
    "                self._head = max(0, self._head - 1)\n",
    "            elif move == 'R':\n",
    "                self._head += 1\n",
    "            elif move == 'H':\n",
    "                return ''.join(self._tape[self._tape.index('▷')+1 :\n",
    "                                          self._tape.index('∅')])\n",
    "\n",
    "\n",
    "XOR_TM = TuringMachine(repr(XOR_DFA), '1011')\n",
    "\n",
    "s = str(XOR_TM)\n",
    "print(s)\n",
    "XOR_TM.run()"
   ]
  },
  {
   "cell_type": "code",
   "execution_count": null,
   "id": "6fa07240",
   "metadata": {},
   "outputs": [],
   "source": [
    "M = XOR_DFA\n",
    "\n",
    "alphabet = {0, 1}\n",
    "state = sorted(list(set(([x[0] for x in M.T.keys()]))))\n",
    "current = state[0]\n",
    "final = M.S\n",
    "\n",
    "print(state, alphabet, current, final, sep=', ')"
   ]
  },
  {
   "cell_type": "code",
   "execution_count": null,
   "id": "e07b04f5",
   "metadata": {},
   "outputs": [],
   "source": [
    "_input = r'101101'\n",
    "\n",
    "def compute(code):\n",
    "    global current\n",
    "    current = state[0]\n",
    "\n",
    "    X = [int(c) for c in code]\n",
    "\n",
    "    for symbol in X:\n",
    "        current = M.T[(current, symbol)]\n",
    "        print('q' + str(current), '-> ', end='')\n",
    "\n",
    "    return 'accept' if current in final else 'reject'\n",
    "\n",
    "\n",
    "print(compute(_input))"
   ]
  },
  {
   "cell_type": "code",
   "execution_count": null,
   "id": "68b25499",
   "metadata": {},
   "outputs": [],
   "source": []
  }
 ],
 "metadata": {
  "kernelspec": {
   "display_name": "Python 3 (ipykernel)",
   "language": "python",
   "name": "python3"
  },
  "language_info": {
   "codemirror_mode": {
    "name": "ipython",
    "version": 3
   },
   "file_extension": ".py",
   "mimetype": "text/x-python",
   "name": "python",
   "nbconvert_exporter": "python",
   "pygments_lexer": "ipython3",
   "version": "3.8.10"
  }
 },
 "nbformat": 4,
 "nbformat_minor": 5
}
