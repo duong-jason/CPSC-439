{
  "cells": [
    {
      "cell_type": "markdown",
      "id": "49275936",
      "metadata": {
        "id": "49275936"
      },
      "source": [
        "## CPSC 439 (Spring 2022) Project 1: Turing Machines\n",
        "\n",
        "###  Group Members\n",
        "* Bradley Diep\n",
        "* John Dinh\n",
        "* Jason Duong\n",
        "* Omid Nikjoo\n",
        "\n",
        "### Documentation\n",
        "1. **DFA Representation**\n",
        "    <center>$RE = (1^+01^+01^+0)^*0(1^+0)^*$</center>\n",
        "\n",
        "    * Each transition is represented as a tuple $(a, b, c)$ encoded as $1^a01^b01^c$ for $a, b, c \\in N$\n",
        "    * Each final state, $d$, is represented as $1^d0$ for $d\\in N$\n",
        "    * The $00$ token string deliminates objects T and S\n",
        "    *_Example_: ``10110111001101 = T: (1, 11, 111), S: {11, 1} = T: (q0, q1, q2), S: {q1, q0}``"
      ]
    },
    {
      "cell_type": "code",
      "execution_count": 1,
      "id": "f4740f59",
      "metadata": {
        "id": "f4740f59"
      },
      "outputs": [],
      "source": [
        "from collections import namedtuple\n",
        "\n",
        "DFA = namedtuple('DFA', ['T', 'S'])\n",
        "\n",
        "ZERO, ONE = '0', '1' # Signals\n",
        "q0, q1, q2, q3 = [*range(4)] # Labeled States"
      ]
    },
    {
      "cell_type": "code",
      "execution_count": 16,
      "id": "702992b7",
      "metadata": {
        "id": "702992b7"
      },
      "outputs": [],
      "source": [
        "def encode(M):\n",
        "    '''converts DFA model to binary representation'''\n",
        "    code = ''\n",
        "\n",
        "    for (current, symbol), successor in M.T.items():\n",
        "        code += ''.join(list(map(lambda offset: ONE * (offset + 1) + ZERO,\n",
        "                                 [current, symbol, successor])))\n",
        "    \n",
        "    code += ZERO\n",
        "    \n",
        "    for final in M.S:\n",
        "        code += ''.join(list(map(lambda offset: ONE * (offset + 1) + ZERO, [final])))\n",
        "\n",
        "    return code\n",
        "\n",
        "# DFA Representation\n",
        "DFA.__repr__ = encode"
      ]
    },
    {
      "cell_type": "code",
      "execution_count": 54,
      "metadata": {
        "outputId": "0989015a-7737-4ea1-f98f-12bae971f1b6",
        "colab": {
          "base_uri": "https://localhost:8080/"
        },
        "id": "hQWgWRBPX0j4"
      },
      "outputs": [
        {
          "output_type": "stream",
          "name": "stdout",
          "text": [
            "RE: 010000001000110101_000001000000001000\n"
          ]
        }
      ],
      "source": [
        "from math import log2, ceil\n",
        "\n",
        "def encode(*re):\n",
        "    '''encodes a regular expression'''\n",
        "    alphabet = r'01(◦|*)∅'\n",
        "    eval = {exp: f'{value:0{ceil(log2(len(alphabet)))}b}' \\\n",
        "              for value, exp in enumerate(list(alphabet))}\n",
        "    return '_'.join([''.join([eval[i] for i in k]) \\\n",
        "                    for j, k in enumerate(re)])\n",
        "\n",
        "XOR = r'0*(10*10*)*10*'\n",
        "F = r'(010)*'\n",
        "\n",
        "print('RE:', encode(F, '010010'))"
      ],
      "id": "hQWgWRBPX0j4"
    },
    {
      "cell_type": "code",
      "execution_count": 18,
      "id": "c5df5338",
      "metadata": {
        "colab": {
          "base_uri": "https://localhost:8080/"
        },
        "id": "c5df5338",
        "outputId": "88a2de07-ca15-4312-cabb-5fe033d37cbb"
      },
      "outputs": [
        {
          "output_type": "stream",
          "name": "stdout",
          "text": [
            "XOR_DFA: 1010101011011011010110110110100110\n"
          ]
        }
      ],
      "source": [
        "'''Figure 6.3'''\n",
        "\n",
        "# Transition Fucnction\n",
        "δ = dict([ \n",
        "    ((q0, 0), q0), ((q0, 1), q1),\n",
        "    ((q1, 0), q1), ((q1, 1), q0),\n",
        "])\n",
        "\n",
        "XOR_DFA = DFA(δ, {q1})\n",
        "print('XOR_DFA:', XOR_DFA)"
      ]
    },
    {
      "cell_type": "code",
      "execution_count": null,
      "id": "f8e56b48",
      "metadata": {
        "id": "f8e56b48",
        "outputId": "d343a8d7-200a-4302-a03b-cd96c7333ca7"
      },
      "outputs": [
        {
          "name": "stdout",
          "output_type": "stream",
          "text": [
            "F_DFA: 1010111010110111101101010110110111101110101111011101101101111010111101111011011110010\n"
          ]
        }
      ],
      "source": [
        "'''Figure 6.4'''\n",
        "\n",
        "# Transition Function\n",
        "δ = dict([\n",
        "    ((q0, 0), q2), ((q0, 1), q3),\n",
        "    ((q1, 0), q0), ((q1, 1), q3),\n",
        "    ((q2, 0), q3), ((q2, 1), q1),\n",
        "    ((q3, 0), q3), ((q3, 1), q3),\n",
        "])\n",
        "\n",
        "F_DFA = DFA(δ, {q0})\n",
        "print('F_DFA:', F_DFA)"
      ]
    },
    {
      "cell_type": "code",
      "execution_count": 61,
      "id": "31aedeff",
      "metadata": {
        "colab": {
          "base_uri": "https://localhost:8080/",
          "height": 296
        },
        "id": "31aedeff",
        "outputId": "d886afc5-7040-4fb0-90f8-0612b265188f"
      },
      "outputs": [
        {
          "output_type": "stream",
          "name": "stdout",
          "text": [
            "▷1011∅\n",
            "START        ▷    EVEN         ▷    R\n",
            "EVEN         1    ODD          1    R\n",
            "ODD          0    ODD          0    R\n",
            "ODD          1    EVEN         1    R\n",
            "EVEN         1    ODD          1    R\n",
            "ODD          ∅    OUTPUT_1     ∅    R\n",
            "OUTPUT_1     ∅    OUTPUT_1     ∅    L\n",
            "OUTPUT_1     ∅    OUTPUT_1     ∅    L\n",
            "OUTPUT_1     1    OUTPUT_1     ∅    L\n",
            "OUTPUT_1     1    OUTPUT_1     ∅    L\n",
            "OUTPUT_1     0    OUTPUT_1     ∅    L\n",
            "OUTPUT_1     1    OUTPUT_1     ∅    L\n",
            "OUTPUT_1     ▷    1_AND_STOP   ▷    R\n",
            "1_AND_STOP   ∅    1_AND_STOP   1    H\n"
          ]
        },
        {
          "output_type": "execute_result",
          "data": {
            "text/plain": [
              "'1'"
            ],
            "application/vnd.google.colaboratory.intrinsic+json": {
              "type": "string"
            }
          },
          "metadata": {},
          "execution_count": 61
        }
      ],
      "source": [
        "class TuringMachine():\n",
        "    '''TM simulating a DFA'''\n",
        "    alphabet = ['0', '1', '▷', '∅', '🔥']\n",
        "    states = ['EVEN', 'ODD']\n",
        "    \n",
        "    def __init__(self, model, source):\n",
        "        self._model = model\n",
        "        self._input = source\n",
        "        \n",
        "        self._head = 0\n",
        "        self._state = 'START'\n",
        "        self._tape = ['▷'] + [i for i in self._input] + ['∅']\n",
        "\n",
        "\n",
        "    def __str__(self):\n",
        "        return ''.join([x for x in self._tape])\n",
        "    \n",
        "    def debug(self):\n",
        "        print(f'{self._state:12} {self._tape[self._head]:5}', end='')\n",
        "\n",
        "    def transition(self, state, symbol):\n",
        "        action = 'R'\n",
        "        if state == 'START':\n",
        "            state = 'EVEN'\n",
        "        if state in ['EVEN', 'ODD']:\n",
        "            if symbol == '∅':\n",
        "                state = 'OUTPUT_1' if state == 'ODD' else 'OUTPUT_0'\n",
        "            elif symbol == '1':\n",
        "                state = 'EVEN' if state == 'ODD' else 'ODD'\n",
        "        else:\n",
        "            move = 'H'\n",
        "            if state in ['OUTPUT_0', 'OUTPUT_1']:\n",
        "                if symbol != '▷':\n",
        "                    action = 'L'\n",
        "                    symbol = '∅'\n",
        "                else:\n",
        "                    action = 'R'\n",
        "                    state = state[-1] + '_AND_STOP'\n",
        "            elif state[1:] == '_AND_STOP':\n",
        "                action = 'H'\n",
        "                symbol = state[0]\n",
        "            \n",
        "        return state, symbol, action\n",
        "        \n",
        "    def run(self):\n",
        "        while True:\n",
        "            self.debug()\n",
        "            \n",
        "            self._state, self._tape[self._head], action = self.transition(self._state, self._tape[self._head])\n",
        "        \n",
        "            self.debug()\n",
        "            print(action)\n",
        "\n",
        "            if self._head == len(self._tape) - 1:\n",
        "                self._tape += ['∅']\n",
        "            \n",
        "            if action == 'L':\n",
        "                self._head = max(0, self._head - 1)\n",
        "            elif action == 'R':\n",
        "                self._head += 1\n",
        "            elif action == 'H':\n",
        "                return ''.join(self._tape[self._tape.index('▷')+1 :\n",
        "                                          self._tape.index('∅')])\n",
        "\n",
        "\n",
        "XOR_TM = TuringMachine(repr(XOR_DFA), '1011')\n",
        "\n",
        "s = str(XOR_TM)\n",
        "print(s)\n",
        "XOR_TM.run()"
      ]
    },
    {
      "cell_type": "code",
      "execution_count": null,
      "id": "6fa07240",
      "metadata": {
        "id": "6fa07240"
      },
      "outputs": [],
      "source": [
        "M = XOR_DFA\n",
        "\n",
        "alphabet = {0, 1}\n",
        "state = sorted(list(set(([x[0] for x in M.T.keys()]))))\n",
        "current = state[0]\n",
        "final = M.S\n",
        "\n",
        "print(state, alphabet, current, final, sep=', ')"
      ]
    },
    {
      "cell_type": "code",
      "execution_count": null,
      "id": "e07b04f5",
      "metadata": {
        "id": "e07b04f5"
      },
      "outputs": [],
      "source": [
        "_input = r'101101'\n",
        "\n",
        "def compute(code):\n",
        "    global current\n",
        "    current = state[0]\n",
        "\n",
        "    X = [int(c) for c in code]\n",
        "\n",
        "    for symbol in X:\n",
        "        current = M.T[(current, symbol)]\n",
        "        print('q' + str(current), '-> ', end='')\n",
        "\n",
        "    return 'accept' if current in final else 'reject'\n",
        "\n",
        "\n",
        "print(compute(_input))"
      ]
    },
    {
      "cell_type": "code",
      "execution_count": null,
      "id": "68b25499",
      "metadata": {
        "id": "68b25499"
      },
      "outputs": [],
      "source": [
        ""
      ]
    }
  ],
  "metadata": {
    "kernelspec": {
      "display_name": "Python 3 (ipykernel)",
      "language": "python",
      "name": "python3"
    },
    "language_info": {
      "codemirror_mode": {
        "name": "ipython",
        "version": 3
      },
      "file_extension": ".py",
      "mimetype": "text/x-python",
      "name": "python",
      "nbconvert_exporter": "python",
      "pygments_lexer": "ipython3",
      "version": "3.8.10"
    },
    "colab": {
      "name": "TM.ipynb",
      "provenance": []
    }
  },
  "nbformat": 4,
  "nbformat_minor": 5
}