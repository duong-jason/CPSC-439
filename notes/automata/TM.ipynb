{
  "cells": [
    {
      "cell_type": "markdown",
      "id": "49275936",
      "metadata": {
        "id": "49275936"
      },
      "source": [
        "## CPSC 439 (Spring 2022) Project 1: Turing Machines\n",
        "\n",
        "###  Group Members\n",
        "* Bradley Diep\n",
        "* John Dinh\n",
        "* Jason Duong\n",
        "* Omid Nikjoo\n",
        "\n",
        "### Documentation\n",
        "1. **DFA Representation**\n",
        "    <center>$RE = (1^+01^+01^+0)^*0(1^+0)^*$</center>\n",
        "\n",
        "    * Each transition is represented as a tuple $(a, b, c)$ encoded as $1^a01^b01^c$ for $a, b, c \\in N$\n",
        "    * Each final state, $d$, is represented as $1^d0$ for $d\\in N$\n",
        "    * The $00$ token string deliminates objects T and S\n",
        "    *_Example_: ``10110111001101 = T: (1, 11, 111), S: {11, 1} = T: (q0, q1, q2), S: {q1, q0}``"
      ]
    },
    {
      "cell_type": "markdown",
      "source": [
        "# Hints\n",
        "* can use any data structure, but still need {0, 1}*"
      ],
      "metadata": {
        "id": "p18Jo7dEzkVT"
      },
      "id": "p18Jo7dEzkVT"
    },
    {
      "cell_type": "code",
      "execution_count": 84,
      "id": "f4740f59",
      "metadata": {
        "id": "f4740f59"
      },
      "outputs": [],
      "source": [
        "from collections import namedtuple\n",
        "\n",
        "DFA = namedtuple('DFA', ['T', 'S'])\n",
        "q0, q1, q2, q3 = [*range(4)]"
      ]
    },
    {
      "cell_type": "code",
      "execution_count": 85,
      "id": "702992b7",
      "metadata": {
        "id": "702992b7"
      },
      "outputs": [],
      "source": [
        "def encode(M):\n",
        "    '''converts DFA model to binary representation'''\n",
        "    code = ''\n",
        "\n",
        "    for (current, symbol), successor in M.T.items():\n",
        "        code += ''.join(list(map(lambda offset: '1' * (offset + 1) + '0',\n",
        "                                 [current, symbol, successor])))\n",
        "    \n",
        "    code += '0'\n",
        "    \n",
        "    for final in M.S:\n",
        "        code += ''.join(list(map(lambda offset: '1' * (offset + 1) + '0', [final])))\n",
        "\n",
        "    return code\n",
        "\n",
        "# DFA Representation\n",
        "DFA.__repr__ = encode"
      ]
    },
    {
      "cell_type": "code",
      "execution_count": 93,
      "metadata": {
        "outputId": "6a1e3fcd-bc93-4d66-ba29-d7fb1837a1ed",
        "colab": {
          "base_uri": "https://localhost:8080/"
        },
        "id": "hQWgWRBPX0j4"
      },
      "outputs": [
        {
          "output_type": "stream",
          "name": "stdout",
          "text": [
            "RE: 010000001000110101_000001000000001000\n"
          ]
        }
      ],
      "source": [
        "from math import log2, ceil\n",
        "\n",
        "def encode(*re):\n",
        "    '''encodes a regular expression'''\n",
        "    alphabet = r'01(◦|*)∅'\n",
        "    eval = {exp: f'{value:0{ceil(log2(len(alphabet)))}b}' \\\n",
        "            for value, exp in enumerate(list(alphabet))}\n",
        " \n",
        "    return '_'.join([''.join([eval[i] for i in k]) \\\n",
        "                    for j, k in enumerate(re)])\n",
        "\n",
        "XOR = r'0*(10*10*)*10*'\n",
        "F = r'(010)*'\n",
        "\n",
        "print('RE:', encode(F, '010010'))"
      ],
      "id": "hQWgWRBPX0j4"
    },
    {
      "cell_type": "code",
      "execution_count": 94,
      "id": "c5df5338",
      "metadata": {
        "colab": {
          "base_uri": "https://localhost:8080/"
        },
        "id": "c5df5338",
        "outputId": "c0439f87-97c1-43c8-8c5b-bcc886a35b34"
      },
      "outputs": [
        {
          "output_type": "stream",
          "name": "stdout",
          "text": [
            "XOR_DFA: 1010101011011011010110110110100110\n"
          ]
        }
      ],
      "source": [
        "'''Figure 6.3'''\n",
        "\n",
        "# Transition Fucnction\n",
        "δ = dict([ \n",
        "    ((q0, 0), q0), ((q0, 1), q1),\n",
        "    ((q1, 0), q1), ((q1, 1), q0),\n",
        "])\n",
        "\n",
        "XOR_DFA = DFA(δ, {q1})\n",
        "print('XOR_DFA:', XOR_DFA)"
      ]
    },
    {
      "cell_type": "code",
      "execution_count": 95,
      "id": "f8e56b48",
      "metadata": {
        "id": "f8e56b48",
        "outputId": "bc4d0b0e-16d9-4be1-942e-1e99b801a598",
        "colab": {
          "base_uri": "https://localhost:8080/"
        }
      },
      "outputs": [
        {
          "output_type": "stream",
          "name": "stdout",
          "text": [
            "F_DFA: 1010111010110111101101010110110111101110101111011101101101111010111101111011011110010\n"
          ]
        }
      ],
      "source": [
        "'''Figure 6.4'''\n",
        "\n",
        "# Transition Function\n",
        "δ = dict([\n",
        "    ((q0, 0), q2), ((q0, 1), q3),\n",
        "    ((q1, 0), q0), ((q1, 1), q3),\n",
        "    ((q2, 0), q3), ((q2, 1), q1),\n",
        "    ((q3, 0), q3), ((q3, 1), q3),\n",
        "])\n",
        "\n",
        "F_DFA = DFA(δ, {q0})\n",
        "print('F_DFA:', F_DFA)"
      ]
    },
    {
      "cell_type": "code",
      "execution_count": 101,
      "id": "31aedeff",
      "metadata": {
        "colab": {
          "base_uri": "https://localhost:8080/"
        },
        "id": "31aedeff",
        "outputId": "de7daf75-0e24-4a4b-e66d-a55d8b83dfd3"
      },
      "outputs": [
        {
          "output_type": "stream",
          "name": "stdout",
          "text": [
            "▷010000001000110101_001000001001∅\n",
            "['Q0', 'Q1', 'Q2', 'Q3', 'Q4', 'Q5', 'QACCEPT', 'QREJECT']\n",
            "Q0           ▷    "
          ]
        }
      ],
      "source": [
        "class TuringMachine():\n",
        "    '''TM Implementation'''\n",
        "    alphabet = ['0', '1', '▷', '∅', '🔥']\n",
        "    states = ['Q' + str(i) for i in range(6)] + ['QACCEPT', 'QREJECT']\n",
        "    \n",
        "    def __init__(self, source):\n",
        "        self._input = source\n",
        "        \n",
        "        self._head = 0\n",
        "        self._state = self.states[0]\n",
        "        self._tape = ['▷'] + [i for i in self._input] + ['∅']\n",
        "\n",
        "\n",
        "    def __str__(self):\n",
        "        return ''.join([x for x in self._tape])\n",
        "    \n",
        "    def debug(self):\n",
        "        print(f'{self._state:12} {self._tape[self._head]:5}', end='')\n",
        "\n",
        "    def transition(self, state, symbol):\n",
        "        action = 'R'\n",
        "        return state, symbol, action\n",
        "        \n",
        "    def run(self):\n",
        "        '''computes a function given an input'''\n",
        "        print(self.states)\n",
        "        self.debug()\n",
        "        return None\n",
        "\n",
        "        while True:\n",
        "            self.debug()\n",
        "            \n",
        "            self._state, self._tape[self._head], action = \\\n",
        "                self.transition(self._state, self._tape[self._head])\n",
        "        \n",
        "            self.debug()\n",
        "            print(action)\n",
        "\n",
        "            if self._head == len(self._tape) - 1:\n",
        "                self._tape.append('∅')\n",
        "            \n",
        "            if action == 'L':\n",
        "                self._head = max(0, self._head - 1)\n",
        "            elif action == 'R':\n",
        "                self._head += 1\n",
        "            elif action == 'S':\n",
        "                continue\n",
        "            elif action == 'H':\n",
        "                break\n",
        "\n",
        "        return ''.join(self._tape[self._tape.index('▷') + 1 :\n",
        "                                  self._tape.index('∅')])\n",
        "\n",
        "\n",
        "M = TuringMachine(encode(F, '1011'))\n",
        "\n",
        "print(str(M))\n",
        "M.run()"
      ]
    },
    {
      "cell_type": "code",
      "execution_count": 104,
      "id": "6fa07240",
      "metadata": {
        "id": "6fa07240",
        "outputId": "154eadd1-831b-4225-af65-1e1339c14c13",
        "colab": {
          "base_uri": "https://localhost:8080/"
        }
      },
      "outputs": [
        {
          "output_type": "stream",
          "name": "stdout",
          "text": [
            "[0, 1], {0, 1}, 0, {1}\n"
          ]
        }
      ],
      "source": [
        "M = XOR_DFA\n",
        "\n",
        "alphabet = {0, 1}\n",
        "state = sorted(list(set(([x[0] for x in M.T.keys()]))))\n",
        "current = state[0]\n",
        "final = M.S\n",
        "\n",
        "print(state, alphabet, current, final, sep=', ')"
      ]
    }
  ],
  "metadata": {
    "kernelspec": {
      "display_name": "Python 3 (ipykernel)",
      "language": "python",
      "name": "python3"
    },
    "language_info": {
      "codemirror_mode": {
        "name": "ipython",
        "version": 3
      },
      "file_extension": ".py",
      "mimetype": "text/x-python",
      "name": "python",
      "nbconvert_exporter": "python",
      "pygments_lexer": "ipython3",
      "version": "3.8.10"
    },
    "colab": {
      "name": "TM.ipynb",
      "provenance": []
    }
  },
  "nbformat": 4,
  "nbformat_minor": 5
}